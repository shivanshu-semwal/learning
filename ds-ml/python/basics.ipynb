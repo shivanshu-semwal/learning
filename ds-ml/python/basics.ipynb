{
 "cells": [
  {
   "cell_type": "markdown",
   "metadata": {},
   "source": [
    "## Hello to jupyter notebook\n",
    "\n",
    "Jupyter notebook is a  interactive form of using python."
   ]
  },
  {
   "cell_type": "code",
   "execution_count": 1,
   "metadata": {},
   "outputs": [
    {
     "name": "stdout",
     "output_type": "stream",
     "text": [
      "hello world\n"
     ]
    }
   ],
   "source": [
    "print(\"hello world\")"
   ]
  },
  {
   "cell_type": "markdown",
   "metadata": {},
   "source": [
    "### Some shortcuts for running commands\n",
    "\n",
    "Ctrl + Enter - Run Selected cells\n",
    "\n",
    "Shift + Enter - Run cell\n",
    "\n",
    "Alt + Enter - Run cell and Insert Below"
   ]
  },
  {
   "cell_type": "markdown",
   "metadata": {},
   "source": [
    "### Some shortcuts related to the type of cell\n",
    "\n",
    "Y - make code cell\n",
    "\n",
    "M - make makedown cell\n",
    "\n",
    "R - make raw cell"
   ]
  },
  {
   "cell_type": "markdown",
   "metadata": {},
   "source": [
    "### Some shortcuts related to cell movement\n",
    "\n",
    "K - select cell above\n",
    "\n",
    "J - select cell below\n"
   ]
  },
  {
   "cell_type": "markdown",
   "metadata": {},
   "source": [
    "### Some shortcuts related to cell selection\n",
    "\n",
    "Shift + K - extend cell above\n",
    "\n",
    "Shift + J - ectend cell below"
   ]
  },
  {
   "cell_type": "markdown",
   "metadata": {},
   "source": [
    "### Cells\n",
    "\n",
    "Insert Above - A\n",
    "\n",
    "Insert Below - B\n",
    "\n",
    "Cut - X\n",
    "\n",
    "Copy - C\n",
    "\n",
    "Delete - DD\n",
    "\n",
    "Paste above - Shift+V\n",
    "\n",
    "Paste below - V\n",
    "\n",
    "Undo Deletion - Z\n",
    "\n",
    "Merge - Shift+M\n",
    "\n",
    "### Notebook\n",
    "\n",
    "Save and checkpoint - Ctrl+S or S\n",
    "\n",
    "Toggle Line Number - L\n",
    "\n",
    "Toggle Output of Selected Cells - O\n",
    "\n",
    "Toggle Output Scrolling - Shift+O\n",
    "\n",
    "Show keyboard shortcuts - H\n",
    "\n",
    "Interrupt the Kernel - II\n",
    "\n",
    "Restart the kernel - 00"
   ]
  },
  {
   "cell_type": "markdown",
   "metadata": {},
   "source": [
    "### Notebook\n",
    "\n",
    "Save and checkpoint - Ctrl+S or S\n",
    "\n",
    "Toggle Line Number - L\n",
    "\n",
    "Toggle Output of Selected Cells - O\n",
    "\n",
    "Toggle Output Scrolling - Shift+O\n",
    "\n",
    "Show keyboard shortcuts - H\n",
    "\n",
    "Interrupt the Kernel - II\n",
    "\n",
    "Restart the kernel - 00"
   ]
  },
  {
   "cell_type": "code",
   "execution_count": null,
   "metadata": {},
   "outputs": [],
   "source": [
    "\n"
   ]
  }
 ],
 "metadata": {
  "kernelspec": {
   "display_name": "shivanshu",
   "language": "python",
   "name": "shivanshu"
  },
  "language_info": {
   "codemirror_mode": {
    "name": "ipython",
    "version": 3
   },
   "file_extension": ".py",
   "mimetype": "text/x-python",
   "name": "python",
   "nbconvert_exporter": "python",
   "pygments_lexer": "ipython3",
   "version": "3.8.3"
  }
 },
 "nbformat": 4,
 "nbformat_minor": 4
}
