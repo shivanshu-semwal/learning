{
 "cells": [
  {
   "cell_type": "code",
   "execution_count": 2,
   "metadata": {},
   "outputs": [
    {
     "name": "stdout",
     "output_type": "stream",
     "text": [
      "Name\n",
      "Alok      98\n",
      "Rahul     95\n",
      "Ram       87\n",
      "Ramesh    75\n",
      "Name: Percentage, dtype: int64\n"
     ]
    }
   ],
   "source": [
    "\n",
    "#use of Groupby :Data Sort\n",
    "\n",
    "import pandas as pd\n",
    "#import numpy as np\n",
    "\n",
    "x={'Name':['Alok','Rahul','Ram','Ramesh','Amit','Mudit'],'Percentage':[98,95,87,75,67,89],'Course':['B.Tech','B.Sc','BA','B.ED','BA','B.sc']}\n",
    "\n",
    "y=pd.DataFrame(x)\n",
    "\n",
    "a=y.groupby('Course')\n",
    "\n",
    "print(a['Percentage'].agg(np.mean))\n",
    "\n",
    "\n"
   ]
  },
  {
   "cell_type": "code",
   "execution_count": 33,
   "metadata": {},
   "outputs": [
    {
     "name": "stdout",
     "output_type": "stream",
     "text": [
      "    Name  Percentage  Course\n",
      "0   Alok          98  B.Tech\n",
      "1  Rahul          95    B.Sc\n"
     ]
    }
   ],
   "source": [
    "#use head() function to get the values of rows\n",
    "\n",
    "import pandas as pd\n",
    "#import numpy as np\n",
    "\n",
    "x={'Name':['Alok','Rahul','Ram','Ramesh','Amit','Mudit'],'Percentage':[98,95,87,75,67,89],'Course':['B.Tech','B.Sc','BA','B.ED','BA','B.sc']}\n",
    "\n",
    "y=pd.DataFrame(x)\n",
    "print(y.head(2))\n",
    "\n"
   ]
  },
  {
   "cell_type": "code",
   "execution_count": 9,
   "metadata": {},
   "outputs": [
    {
     "name": "stdout",
     "output_type": "stream",
     "text": [
      "    x   y   z\n",
      "0   1   2   3\n",
      "1   4   5   6\n",
      "2   7   8   9\n",
      "3  10  11  12\n",
      "\n",
      " [[ 1  2  3]\n",
      " [ 4  5  6]\n",
      " [ 7  8  9]\n",
      " [10 11 12]]\n"
     ]
    }
   ],
   "source": [
    "# to_numpy() used to convert data frame to numpy\n",
    "\n",
    "\n",
    "import pandas as pd\n",
    "x=pd.DataFrame([[1,2,3],[4,5,6],[7,8,9],[10,11,12]],columns = ['x','y','z'])\n",
    "\n",
    "print(x)\n",
    "\n",
    "y=x.to_numpy()\n",
    "print(\"\\n\",y)"
   ]
  },
  {
   "cell_type": "code",
   "execution_count": 24,
   "metadata": {},
   "outputs": [
    {
     "name": "stdout",
     "output_type": "stream",
     "text": [
      "     Id\n",
      "0  12.0\n",
      "1  23.0\n",
      "2  45.0\n",
      "3  67.0\n",
      "4   NaN\n",
      "\n",
      "      Id\n",
      "0  12.0\n",
      "1  23.0\n",
      "2  45.0\n",
      "3  67.0\n",
      "4  34.0\n"
     ]
    }
   ],
   "source": [
    "# to give user define value to NAN  (undefine or missing) value\n",
    "\n",
    "import pandas as pd\n",
    "x=pd.DataFrame({'Id':[12,23,45,67,None]})\n",
    "print(x)\n",
    "\n",
    "x.fillna(value=34,inplace=True)\n",
    "print(\"\\n\",x)"
   ]
  },
  {
   "cell_type": "code",
   "execution_count": 34,
   "metadata": {},
   "outputs": [
    {
     "name": "stdout",
     "output_type": "stream",
     "text": [
      "      0     1    2   3   4\n",
      "0   NaN   NaN  NaN   5   8\n",
      "1  12.0  45.0  NaN  89  65\n",
      "2   NaN   NaN  6.0   5   4\n"
     ]
    }
   ],
   "source": [
    "import pandas as pd\n",
    "\n",
    "x=pd.DataFrame([[np.nan,np.nan,np.nan,5,8],[12,45,np.nan,89,65],[np.nan,np.nan,6,5,4]])\n",
    "print(x)"
   ]
  },
  {
   "cell_type": "code",
   "execution_count": null,
   "metadata": {},
   "outputs": [],
   "source": []
  },
  {
   "cell_type": "code",
   "execution_count": null,
   "metadata": {},
   "outputs": [],
   "source": []
  }
 ],
 "metadata": {
  "kernelspec": {
   "display_name": "Python 3",
   "language": "python",
   "name": "python3"
  },
  "language_info": {
   "codemirror_mode": {
    "name": "ipython",
    "version": 3
   },
   "file_extension": ".py",
   "mimetype": "text/x-python",
   "name": "python",
   "nbconvert_exporter": "python",
   "pygments_lexer": "ipython3",
   "version": "3.8.3"
  }
 },
 "nbformat": 4,
 "nbformat_minor": 4
}
