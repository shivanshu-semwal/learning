{
 "cells": [
  {
   "cell_type": "code",
   "execution_count": 28,
   "metadata": {},
   "outputs": [
    {
     "name": "stdout",
     "output_type": "stream",
     "text": [
      "a    p\n",
      "b    y\n",
      "c    t\n",
      "d    h\n",
      "e    o\n",
      "f    n\n",
      "dtype: object\n"
     ]
    }
   ],
   "source": [
    "import pandas as pd\n",
    "import numpy as np\n",
    "\n",
    "x = np.array(['p','y','t','h','o','n'])                      # Series function is used for 1D array\n",
    "\n",
    "y=pd.Series(x,index=['a','b','c','d','e','f'])     # series function always return index and it's value\n",
    "\n",
    "print(y)"
   ]
  },
  {
   "cell_type": "code",
   "execution_count": 29,
   "metadata": {},
   "outputs": [
    {
     "name": "stdout",
     "output_type": "stream",
     "text": [
      "A    riya\n",
      "B       2\n",
      "C       3\n",
      "D       4\n",
      "dtype: object\n",
      "\n",
      "\n",
      "riya\n",
      "riya\n",
      "(4,)\n"
     ]
    }
   ],
   "source": [
    "import pandas as pd\n",
    "import numpy as np\n",
    "y=pd.Series({'A':'riya','B':2,'C':3,'D':4}) # series function using dictionary\n",
    "\n",
    "print(y)\n",
    "print('\\n')\n",
    "\n",
    "print(y[0])\n",
    "print(y['A'])   #both 'A' and '0' can be used as index\n",
    "\n",
    "print(y.shape)# print no. of values"
   ]
  },
  {
   "cell_type": "code",
   "execution_count": 31,
   "metadata": {},
   "outputs": [
    {
     "data": {
      "text/plain": [
       "0      ss\n",
       "1    AMIT\n",
       "2    Riya\n",
       "3    shiv\n",
       "dtype: object"
      ]
     },
     "execution_count": 31,
     "metadata": {},
     "output_type": "execute_result"
    }
   ],
   "source": [
    "#map function\n",
    "\n",
    "import pandas as pd \n",
    "import numpy as np\n",
    "y =pd.Series(['A','B','c','D'])\n",
    "y.map({'B':\"AMIT\",'c':\"Riya\",'D':\"shiv\",'A':\"ss\"})"
   ]
  },
  {
   "cell_type": "code",
   "execution_count": 18,
   "metadata": {},
   "outputs": [
    {
     "name": "stdout",
     "output_type": "stream",
     "text": [
      "1.8547236990991407\n"
     ]
    }
   ],
   "source": [
    "#standard deviation\n",
    "\n",
    "import pandas as pd\n",
    "import numpy as np\n",
    "\n",
    "print(np.std([5,6,7,2,3]))\n",
    "\n",
    "\n"
   ]
  },
  {
   "cell_type": "code",
   "execution_count": 19,
   "metadata": {},
   "outputs": [
    {
     "name": "stdout",
     "output_type": "stream",
     "text": [
      "    Name  s_m1  s_m2\n",
      "0  Rahul    52    41\n",
      "1    Ram    38    35\n",
      "2   Amit    42    29\n",
      "3   Alok    37    36\n",
      "\n",
      " s_m1    6.849574\n",
      "s_m2    4.924429\n",
      "dtype: float64\n"
     ]
    }
   ],
   "source": [
    "# Data Frame\n",
    "\n",
    "#use dictionary and give values at particular key\n",
    "\n",
    "import pandas as pd\n",
    "import numpy as np\n",
    "x={'Name':['Rahul','Ram','Amit','Alok'],'s_m1':[52,38,42,37],'s_m2':[41,35,29,36]}\n",
    "\n",
    "y=pd.DataFrame(x)\n",
    "\n",
    "print(y)\n",
    " \n",
    "print('\\n',y.std()) # calculate std (standard deviation) of numerical vlaue \n"
   ]
  },
  {
   "cell_type": "code",
   "execution_count": 20,
   "metadata": {},
   "outputs": [
    {
     "name": "stdout",
     "output_type": "stream",
     "text": [
      "Data Frame using series function\n",
      "\n",
      "     Name   ID\n",
      "0     Ram  102\n",
      "1  Ramesh  103\n",
      "2   Rahul  104\n",
      "3    Amit  105\n"
     ]
    }
   ],
   "source": [
    "\n",
    "print(\"Data Frame using series function\\n\")\n",
    "\n",
    "import pandas as pd\n",
    "import numpy as np\n",
    "\n",
    "x= ['Ram','Ramesh','Rahul','Amit']\n",
    "y= [102,103,104,105]\n",
    "\n",
    "z= pd.Series(x)\n",
    "z1= pd.Series(y)\n",
    "\n",
    "a={'Name':z,'ID':z1}\n",
    "\n",
    "b=pd.DataFrame(a)\n",
    "\n",
    "print(b)"
   ]
  },
  {
   "cell_type": "code",
   "execution_count": 21,
   "metadata": {},
   "outputs": [
    {
     "name": "stdout",
     "output_type": "stream",
     "text": [
      "Data Frame using dictionary\n",
      "\n",
      "     Name  s_m1  s_m2\n",
      "0   Rahul    52    41\n",
      "1     Ram    38    35\n",
      "2    Amit    42    29\n",
      "3    Alok    37    89\n",
      "4  Ramesh    56    67\n"
     ]
    }
   ],
   "source": [
    "print (\"Data Frame using dictionary\\n\")\n",
    "\n",
    "import pandas as pd\n",
    "import numpy as np\n",
    "x={'Name':['Rahul','Ram','Amit','Alok','Ramesh'],'s_m1':[52,38,42,37,56],'s_m2':[41,35,29,89,67]}\n",
    "\n",
    "y=pd.DataFrame(x)\n",
    "print(y)\n",
    "\n"
   ]
  },
  {
   "cell_type": "code",
   "execution_count": 22,
   "metadata": {},
   "outputs": [
    {
     "name": "stdout",
     "output_type": "stream",
     "text": [
      "If vlaues of row are missing it will show \"NaN\" as index \"d\" and \"e\" don't have values in column \"name\" \n",
      "\n",
      "    Name   Id\n",
      "a  Rahul  101\n",
      "b    Ram  102\n",
      "c   Amit  103\n",
      "d    NaN  104\n",
      "e    NaN  105\n",
      "\n",
      " (5, 2)\n",
      "\n",
      " Adding new column \n",
      "\n",
      "    Name   Id  Age\n",
      "a  Rahul  101   20\n",
      "b    Ram  102   30\n",
      "c   Amit  103   40\n",
      "d    NaN  104   45\n",
      "e    NaN  105   60\n",
      "\n",
      "\n",
      "\n",
      "New column by adding two column \n",
      "     Name   Id  Age  Amount\n",
      "a  Rahul  101   20     121\n",
      "b    Ram  102   30     132\n",
      "c   Amit  103   40     143\n",
      "d    NaN  104   45     149\n",
      "e    NaN  105   60     165\n",
      "\n",
      "adding new row in a data frame \n",
      "      Name   Id  Age  Amount\n",
      "a   Rahul  101   20     121\n",
      "b     Ram  102   30     132\n",
      "c    Amit  103   40     143\n",
      "d     NaN  104   45     149\n",
      "e     NaN  105   60     165\n",
      "0  Ramesh  106   35     200\n",
      "\n",
      "Row with index no.0 is deleted \n",
      "      Name   Id  Age  Amount\n",
      "a   Rahul  101   20     121\n",
      "b     Ram  102   30     132\n",
      "c    Amit  103   40     143\n",
      "d     NaN  104   45     149\n",
      "e     NaN  105   60     165\n",
      "0  Ramesh  106   35     200\n",
      "\n",
      " Column 'Amount' is deleted \n",
      "      Name   Id  Age\n",
      "a   Rahul  101   20\n",
      "b     Ram  102   30\n",
      "c    Amit  103   40\n",
      "d     NaN  104   45\n",
      "e     NaN  105   60\n",
      "0  Ramesh  106   35\n",
      "\n",
      " Vlaues in column \"ID\" \n",
      "\n",
      "a    101\n",
      "b    102\n",
      "c    103\n",
      "d    104\n",
      "e    105\n",
      "0    106\n",
      "Name: Id, dtype: int64\n",
      " \n",
      "Print all the Data at loction 'a'\n",
      "\n",
      "Name    Rahul\n",
      "Id        101\n",
      "Age        20\n",
      "Name: a, dtype: object\n",
      "\n",
      "\n",
      "Print Data at location 1 \n",
      " Name    Ram\n",
      "Id      102\n",
      "Age      30\n",
      "Name: b, dtype: object\n",
      "\n",
      "Print Data form index 0 to 3 \n",
      "     Name   Id  Age\n",
      "a  Rahul  101   20\n",
      "b    Ram  102   30\n",
      "c   Amit  103   40\n",
      "d    NaN  104   45\n"
     ]
    }
   ],
   "source": [
    "#Data Frame with missing row values \n",
    "\n",
    "print('If vlaues of row are missing it will show \"NaN\" as index \"d\" and \"e\" don\\'t have values in column \"name\" \\n')\n",
    "import pandas as pd\n",
    "x={'Name':pd.Series(['Rahul','Ram','Amit'],index=['a','b','c']),'Id':pd.Series([101,102,103,104,105],index=['a','b','c','d','e'])}\n",
    "\n",
    "y=pd.DataFrame(x)\n",
    "\n",
    "print(y)\n",
    "\n",
    "\n",
    "print('\\n',y.shape)\n",
    "\n",
    "\n",
    "\n",
    "\n",
    "# how to add new column in a Data Frame\n",
    "\n",
    "print(\"\\n Adding new column \\n\")\n",
    "\n",
    "y['Age']=pd.Series([20,30,40,45,60],index=['a','b','c','d','e'])\n",
    "\n",
    "print(y)\n",
    "print('\\n')\n",
    "\n",
    "\n",
    "\n",
    "\n",
    "# create a new column by adding two column\n",
    "\n",
    "y[\"Amount\"]=y['Id']+y[\"Age\"]\n",
    "print(\"\\nNew column by adding two column \\n\",y)\n",
    "\n",
    "\n",
    "\n",
    "\n",
    "\n",
    "# HOw to add row in a Data Frame\n",
    "\n",
    "a=pd.DataFrame([['Ramesh',106,35,200]],columns=['Name','Id','Age','Amount'])\n",
    "y=y.append(a) #use append function\n",
    "print(\"\\nadding new row in a data frame \\n\",y)\n",
    "\n",
    "\n",
    "\n",
    "\n",
    "\n",
    "#How to delete a particular row\n",
    "y.drop(0)\n",
    "print('\\nRow with index no.0 is deleted \\n',y)\n",
    "\n",
    "\n",
    "\n",
    "#how to delete a particular column\n",
    "\n",
    "del y[\"Amount\"] # or you can use \"y.pop('Age')\" \n",
    "\n",
    "print(\"\\n Column 'Amount' is deleted \\n\",y)\n",
    "\n",
    "\n",
    "\n",
    "\n",
    "\n",
    "\n",
    "#how to print a particular column\n",
    "\n",
    "print('\\n Vlaues in column \"ID\" \\n')\n",
    "print(y[\"Id\"])\n",
    "\n",
    "\n",
    "\n",
    "\n",
    "\n",
    "# print all the data at a particular loction \n",
    "\n",
    "print (\" \\nPrint all the Data at loction 'a'\\n\")\n",
    "\n",
    "print(y.loc['a']) \n",
    "print(\"\\n\")\n",
    "print(\"Print Data at location 1 \\n\", y.iloc[1])   # using ilog iif you want to use 0,1,2,3 as a index\n",
    "\n",
    "print(\"\\nPrint Data form index 0 to 3 \\n\",y[ :4]) # 0 to 3  \n",
    "\n"
   ]
  },
  {
   "cell_type": "code",
   "execution_count": 23,
   "metadata": {},
   "outputs": [
    {
     "name": "stdout",
     "output_type": "stream",
     "text": [
      "     Name   age\n",
      "0   Rahul  24.0\n",
      "1    Amit  35.0\n",
      "2    Alok   NaN\n",
      "3  Danish  40.0\n"
     ]
    },
    {
     "data": {
      "text/plain": [
       "0    2\n",
       "1    2\n",
       "2    1\n",
       "3    2\n",
       "dtype: int64"
      ]
     },
     "execution_count": 23,
     "metadata": {},
     "output_type": "execute_result"
    }
   ],
   "source": [
    "import pandas as pd \n",
    "x =pd.DataFrame({'Name':['Rahul','Amit','Alok','Danish'],'age':[24,35,np.nan,40]}) # if we want to skip value use ap.nan \n",
    "print(x)\n",
    "\n",
    "# count the no.of values in column\n",
    "x.count()\n",
    "\n",
    "#to find the the row whose value is missing\n",
    "\n",
    "x.count(axis='columns') # row having index no.2 has only 1 value "
   ]
  },
  {
   "cell_type": "code",
   "execution_count": 24,
   "metadata": {},
   "outputs": [
    {
     "data": {
      "text/plain": [
       "count     4.000000\n",
       "mean     33.750000\n",
       "std      25.863423\n",
       "min      12.000000\n",
       "25%      12.750000\n",
       "50%      29.000000\n",
       "75%      50.000000\n",
       "max      65.000000\n",
       "dtype: float64"
      ]
     },
     "execution_count": 24,
     "metadata": {},
     "output_type": "execute_result"
    }
   ],
   "source": [
    "import pandas as pd\n",
    "x=pd.Series([12,13,45,65])\n",
    "\n",
    "x.describe() # give mean , count ,std,min,25%... of numerical value\n"
   ]
  },
  {
   "cell_type": "code",
   "execution_count": 25,
   "metadata": {},
   "outputs": [
    {
     "data": {
      "text/plain": [
       "count     7\n",
       "unique    5\n",
       "top       s\n",
       "freq      2\n",
       "dtype: object"
      ]
     },
     "execution_count": 25,
     "metadata": {},
     "output_type": "execute_result"
    }
   ],
   "source": [
    "import pandas as pd\n",
    "y=pd.Series(['p','a','n','d','s','a','s'])\n",
    "y.describe()    # describe string values"
   ]
  },
  {
   "cell_type": "code",
   "execution_count": 26,
   "metadata": {},
   "outputs": [
    {
     "name": "stdout",
     "output_type": "stream",
     "text": [
      "0    p\n",
      "1    a\n",
      "2    n\n",
      "3    d\n",
      "4    s\n",
      "dtype: object\n"
     ]
    }
   ],
   "source": [
    "import pandas as pd\n",
    "#To remove dublicate values\n",
    "y= y.drop_duplicates()\n",
    "print(y)"
   ]
  },
  {
   "cell_type": "code",
   "execution_count": 27,
   "metadata": {},
   "outputs": [
    {
     "data": {
      "text/html": [
       "<div>\n",
       "<style scoped>\n",
       "    .dataframe tbody tr th:only-of-type {\n",
       "        vertical-align: middle;\n",
       "    }\n",
       "\n",
       "    .dataframe tbody tr th {\n",
       "        vertical-align: top;\n",
       "    }\n",
       "\n",
       "    .dataframe thead th {\n",
       "        text-align: right;\n",
       "    }\n",
       "</style>\n",
       "<table border=\"1\" class=\"dataframe\">\n",
       "  <thead>\n",
       "    <tr style=\"text-align: right;\">\n",
       "      <th></th>\n",
       "      <th>A</th>\n",
       "      <th>B</th>\n",
       "      <th>C</th>\n",
       "    </tr>\n",
       "  </thead>\n",
       "  <tbody>\n",
       "    <tr>\n",
       "      <th>sum</th>\n",
       "      <td>29</td>\n",
       "      <td>38</td>\n",
       "      <td>46</td>\n",
       "    </tr>\n",
       "    <tr>\n",
       "      <th>min</th>\n",
       "      <td>1</td>\n",
       "      <td>5</td>\n",
       "      <td>7</td>\n",
       "    </tr>\n",
       "    <tr>\n",
       "      <th>max</th>\n",
       "      <td>18</td>\n",
       "      <td>21</td>\n",
       "      <td>24</td>\n",
       "    </tr>\n",
       "  </tbody>\n",
       "</table>\n",
       "</div>"
      ],
      "text/plain": [
       "      A   B   C\n",
       "sum  29  38  46\n",
       "min   1   5   7\n",
       "max  18  21  24"
      ]
     },
     "execution_count": 27,
     "metadata": {},
     "output_type": "execute_result"
    }
   ],
   "source": [
    "import pandas as pd\n",
    "\n",
    "x=pd.DataFrame([[1,5,7],[10,12,15],[18,21,24]],columns=['A','B','C'])\n",
    "\n",
    "x.agg(['sum','min','max'])"
   ]
  }
 ],
 "metadata": {
  "kernelspec": {
   "display_name": "Python 3",
   "language": "python",
   "name": "python3"
  },
  "language_info": {
   "codemirror_mode": {
    "name": "ipython",
    "version": 3
   },
   "file_extension": ".py",
   "mimetype": "text/x-python",
   "name": "python",
   "nbconvert_exporter": "python",
   "pygments_lexer": "ipython3",
   "version": "3.8.3"
  }
 },
 "nbformat": 4,
 "nbformat_minor": 4
}
