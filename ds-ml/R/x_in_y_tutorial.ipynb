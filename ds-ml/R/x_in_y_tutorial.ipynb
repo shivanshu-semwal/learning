{
 "cells": [
  {
   "cell_type": "markdown",
   "id": "1870651a",
   "metadata": {},
   "source": [
    "# R\n",
    "> a statistical computing langugage."
   ]
  },
  {
   "cell_type": "code",
   "execution_count": 1,
   "id": "8a29937d",
   "metadata": {},
   "outputs": [],
   "source": [
    "# Comments start with number symbols.\n",
    "\n",
    "# You can't make multi-line comments,\n",
    "# but you can stack multiple comments like so.\n",
    "\n",
    "# in Windows you can use CTRL-ENTER to execute a line.\n",
    "# on Mac it is COMMAND-ENTER"
   ]
  },
  {
   "cell_type": "markdown",
   "id": "0606288c",
   "metadata": {},
   "source": [
    "## Stuff you can do without understanding anything about programming "
   ]
  },
  {
   "cell_type": "code",
   "execution_count": 2,
   "id": "8e83754c",
   "metadata": {
    "scrolled": true,
    "tags": []
   },
   "outputs": [
    {
     "data": {
      "text/html": [
       "<h3>Data sets</h3>\n",
       "<table>\n",
       "<thead><tr><th scope=col>Package</th><th scope=col>Item</th><th scope=col>Title</th></tr></thead>\n",
       "<tbody>\n",
       "\t<tr><td>datasets                                                       </td><td>AirPassengers                                                  </td><td>Monthly Airline Passenger Numbers 1949-1960                    </td></tr>\n",
       "\t<tr><td>datasets                                                       </td><td>BJsales                                                        </td><td>Sales Data with Leading Indicator                              </td></tr>\n",
       "\t<tr><td>datasets                                                       </td><td>BJsales.lead (BJsales)                                         </td><td>Sales Data with Leading Indicator                              </td></tr>\n",
       "\t<tr><td>datasets                                                       </td><td>BOD                                                            </td><td>Biochemical Oxygen Demand                                      </td></tr>\n",
       "\t<tr><td>datasets                                                       </td><td>CO2                                                            </td><td>Carbon Dioxide Uptake in Grass Plants                          </td></tr>\n",
       "\t<tr><td>datasets                                                       </td><td>ChickWeight                                                    </td><td>Weight versus age of chicks on different diets                 </td></tr>\n",
       "\t<tr><td>datasets                                                       </td><td>DNase                                                          </td><td>Elisa assay of DNase                                           </td></tr>\n",
       "\t<tr><td>datasets                                                       </td><td>EuStockMarkets                                                 </td><td>Daily Closing Prices of Major European Stock Indices, 1991-1998</td></tr>\n",
       "\t<tr><td>datasets                                                       </td><td>Formaldehyde                                                   </td><td>Determination of Formaldehyde                                  </td></tr>\n",
       "\t<tr><td>datasets                                                       </td><td>HairEyeColor                                                   </td><td>Hair and Eye Color of Statistics Students                      </td></tr>\n",
       "\t<tr><td>datasets                                                       </td><td>Harman23.cor                                                   </td><td>Harman Example 2.3                                             </td></tr>\n",
       "\t<tr><td>datasets                                                       </td><td>Harman74.cor                                                   </td><td>Harman Example 7.4                                             </td></tr>\n",
       "\t<tr><td>datasets                                                       </td><td>Indometh                                                       </td><td>Pharmacokinetics of Indomethacin                               </td></tr>\n",
       "\t<tr><td>datasets                                                       </td><td>InsectSprays                                                   </td><td>Effectiveness of Insect Sprays                                 </td></tr>\n",
       "\t<tr><td>datasets                                                                                                   </td><td><span style=white-space:pre-wrap>JohnsonJohnson        </span>                                             </td><td><span style=white-space:pre-wrap>Quarterly Earnings per Johnson &amp; Johnson Share                 </span></td></tr>\n",
       "\t<tr><td>datasets                                                       </td><td>LakeHuron                                                      </td><td>Level of Lake Huron 1875-1972                                  </td></tr>\n",
       "\t<tr><td>datasets                                                       </td><td>LifeCycleSavings                                               </td><td>Intercountry Life-Cycle Savings Data                           </td></tr>\n",
       "\t<tr><td>datasets                                                       </td><td>Loblolly                                                       </td><td>Growth of Loblolly pine trees                                  </td></tr>\n",
       "\t<tr><td>datasets                                                       </td><td>Nile                                                           </td><td>Flow of the River Nile                                         </td></tr>\n",
       "\t<tr><td>datasets                                                       </td><td>Orange                                                         </td><td>Growth of Orange Trees                                         </td></tr>\n",
       "\t<tr><td>datasets                                                       </td><td>OrchardSprays                                                  </td><td>Potency of Orchard Sprays                                      </td></tr>\n",
       "\t<tr><td>datasets                                                       </td><td>PlantGrowth                                                    </td><td>Results from an Experiment on Plant Growth                     </td></tr>\n",
       "\t<tr><td>datasets                                                       </td><td>Puromycin                                                      </td><td>Reaction Velocity of an Enzymatic Reaction                     </td></tr>\n",
       "\t<tr><td>datasets                                                       </td><td>Seatbelts                                                      </td><td>Road Casualties in Great Britain 1969-84                       </td></tr>\n",
       "\t<tr><td>datasets                                                       </td><td>Theoph                                                         </td><td>Pharmacokinetics of Theophylline                               </td></tr>\n",
       "\t<tr><td>datasets                                                       </td><td>Titanic                                                        </td><td>Survival of passengers on the Titanic                          </td></tr>\n",
       "\t<tr><td>datasets                                                       </td><td>ToothGrowth                                                    </td><td>The Effect of Vitamin C on Tooth Growth in Guinea Pigs         </td></tr>\n",
       "\t<tr><td>datasets                                                       </td><td>UCBAdmissions                                                  </td><td>Student Admissions at UC Berkeley                              </td></tr>\n",
       "\t<tr><td>datasets                                                       </td><td>UKDriverDeaths                                                 </td><td>Road Casualties in Great Britain 1969-84                       </td></tr>\n",
       "\t<tr><td>datasets                                                       </td><td>UKgas                                                          </td><td>UK Quarterly Gas Consumption                                   </td></tr>\n",
       "\t<tr><td>datasets                                                       </td><td>USAccDeaths                                                    </td><td>Accidental Deaths in the US 1973-1978                          </td></tr>\n",
       "\t<tr><td>datasets                                                       </td><td>USArrests                                                      </td><td>Violent Crime Rates by US State                                </td></tr>\n",
       "\t<tr><td>datasets                                                       </td><td>USJudgeRatings                                                 </td><td>Lawyers' Ratings of State Judges in the US Superior Court      </td></tr>\n",
       "\t<tr><td>datasets                                                       </td><td>USPersonalExpenditure                                          </td><td>Personal Expenditure Data                                      </td></tr>\n",
       "\t<tr><td>datasets                                                       </td><td>UScitiesD                                                      </td><td>Distances Between European Cities and Between US Cities        </td></tr>\n",
       "\t<tr><td>datasets                                                       </td><td>VADeaths                                                       </td><td>Death Rates in Virginia (1940)                                 </td></tr>\n",
       "\t<tr><td>datasets                                                       </td><td>WWWusage                                                       </td><td>Internet Usage per Minute                                      </td></tr>\n",
       "\t<tr><td>datasets                                                       </td><td>WorldPhones                                                    </td><td>The World's Telephones                                         </td></tr>\n",
       "\t<tr><td>datasets                                                       </td><td>ability.cov                                                    </td><td>Ability and Intelligence Tests                                 </td></tr>\n",
       "\t<tr><td>datasets                                                       </td><td>airmiles                                                       </td><td>Passenger Miles on Commercial US Airlines, 1937-1960           </td></tr>\n",
       "\t<tr><td>datasets                                                       </td><td>airquality                                                     </td><td>New York Air Quality Measurements                              </td></tr>\n",
       "\t<tr><td>datasets                                                       </td><td>anscombe                                                       </td><td>Anscombe's Quartet of 'Identical' Simple Linear Regressions    </td></tr>\n",
       "\t<tr><td>datasets                                                       </td><td>attenu                                                         </td><td>The Joyner-Boore Attenuation Data                              </td></tr>\n",
       "\t<tr><td>datasets                                                       </td><td>attitude                                                       </td><td>The Chatterjee-Price Attitude Data                             </td></tr>\n",
       "\t<tr><td>datasets                                                       </td><td>austres                                                        </td><td>Quarterly Time Series of the Number of Australian Residents    </td></tr>\n",
       "\t<tr><td>datasets                                                       </td><td>beaver1 (beavers)                                              </td><td>Body Temperature Series of Two Beavers                         </td></tr>\n",
       "\t<tr><td>datasets                                                       </td><td>beaver2 (beavers)                                              </td><td>Body Temperature Series of Two Beavers                         </td></tr>\n",
       "\t<tr><td>datasets                                                       </td><td>cars                                                           </td><td>Speed and Stopping Distances of Cars                           </td></tr>\n",
       "\t<tr><td>datasets                                                       </td><td>chickwts                                                       </td><td>Chicken Weights by Feed Type                                   </td></tr>\n",
       "\t<tr><td>datasets                                                       </td><td>co2                                                            </td><td>Mauna Loa Atmospheric CO2 Concentration                        </td></tr>\n",
       "\t<tr><td>datasets                                                       </td><td>crimtab                                                        </td><td>Student's 3000 Criminals Data                                  </td></tr>\n",
       "\t<tr><td>datasets                                                       </td><td>discoveries                                                    </td><td>Yearly Numbers of Important Discoveries                        </td></tr>\n",
       "\t<tr><td>datasets                                                       </td><td>esoph                                                          </td><td>Smoking, Alcohol and (O)esophageal Cancer                      </td></tr>\n",
       "\t<tr><td>datasets                                                       </td><td>euro                                                           </td><td>Conversion Rates of Euro Currencies                            </td></tr>\n",
       "\t<tr><td>datasets                                                       </td><td>euro.cross (euro)                                              </td><td>Conversion Rates of Euro Currencies                            </td></tr>\n",
       "\t<tr><td>datasets                                                       </td><td>eurodist                                                       </td><td>Distances Between European Cities and Between US Cities        </td></tr>\n",
       "\t<tr><td>datasets                                                       </td><td>faithful                                                       </td><td>Old Faithful Geyser Data                                       </td></tr>\n",
       "\t<tr><td>datasets                                                       </td><td>fdeaths (UKLungDeaths)                                         </td><td>Monthly Deaths from Lung Diseases in the UK                    </td></tr>\n",
       "\t<tr><td>datasets                                                       </td><td>freeny                                                         </td><td>Freeny's Revenue Data                                          </td></tr>\n",
       "\t<tr><td>datasets                                                       </td><td>freeny.x (freeny)                                              </td><td>Freeny's Revenue Data                                          </td></tr>\n",
       "\t<tr><td>datasets                                                       </td><td>freeny.y (freeny)                                              </td><td>Freeny's Revenue Data                                          </td></tr>\n",
       "\t<tr><td>datasets                                                       </td><td>infert                                                         </td><td>Infertility after Spontaneous and Induced Abortion             </td></tr>\n",
       "\t<tr><td>datasets                                                       </td><td>iris                                                           </td><td>Edgar Anderson's Iris Data                                     </td></tr>\n",
       "\t<tr><td>datasets                                                       </td><td>iris3                                                          </td><td>Edgar Anderson's Iris Data                                     </td></tr>\n",
       "\t<tr><td>datasets                                                       </td><td>islands                                                        </td><td>Areas of the World's Major Landmasses                          </td></tr>\n",
       "\t<tr><td>datasets                                                       </td><td>ldeaths (UKLungDeaths)                                         </td><td>Monthly Deaths from Lung Diseases in the UK                    </td></tr>\n",
       "\t<tr><td>datasets                                                       </td><td>lh                                                             </td><td>Luteinizing Hormone in Blood Samples                           </td></tr>\n",
       "\t<tr><td>datasets                                                       </td><td>longley                                                        </td><td>Longley's Economic Regression Data                             </td></tr>\n",
       "\t<tr><td>datasets                                                       </td><td>lynx                                                           </td><td>Annual Canadian Lynx trappings 1821-1934                       </td></tr>\n",
       "\t<tr><td>datasets                                                       </td><td>mdeaths (UKLungDeaths)                                         </td><td>Monthly Deaths from Lung Diseases in the UK                    </td></tr>\n",
       "\t<tr><td>datasets                                                       </td><td>morley                                                         </td><td>Michelson Speed of Light Data                                  </td></tr>\n",
       "\t<tr><td>datasets                                                       </td><td>mtcars                                                         </td><td>Motor Trend Car Road Tests                                     </td></tr>\n",
       "\t<tr><td>datasets                                                       </td><td>nhtemp                                                         </td><td>Average Yearly Temperatures in New Haven                       </td></tr>\n",
       "\t<tr><td>datasets                                                       </td><td>nottem                                                         </td><td>Average Monthly Temperatures at Nottingham, 1920-1939          </td></tr>\n",
       "\t<tr><td>datasets                                                       </td><td>npk                                                            </td><td>Classical N, P, K Factorial Experiment                         </td></tr>\n",
       "\t<tr><td>datasets                                                       </td><td>occupationalStatus                                             </td><td>Occupational Status of Fathers and their Sons                  </td></tr>\n",
       "\t<tr><td>datasets                                                       </td><td>precip                                                         </td><td>Annual Precipitation in US Cities                              </td></tr>\n",
       "\t<tr><td>datasets                                                       </td><td>presidents                                                     </td><td>Quarterly Approval Ratings of US Presidents                    </td></tr>\n",
       "\t<tr><td>datasets                                                       </td><td>pressure                                                       </td><td>Vapor Pressure of Mercury as a Function of Temperature         </td></tr>\n",
       "\t<tr><td>datasets                                                       </td><td>quakes                                                         </td><td>Locations of Earthquakes off Fiji                              </td></tr>\n",
       "\t<tr><td>datasets                                                       </td><td>randu                                                          </td><td>Random Numbers from Congruential Generator RANDU               </td></tr>\n",
       "\t<tr><td>datasets                                                       </td><td>rivers                                                         </td><td>Lengths of Major North American Rivers                         </td></tr>\n",
       "\t<tr><td>datasets                                                       </td><td>rock                                                           </td><td>Measurements on Petroleum Rock Samples                         </td></tr>\n",
       "\t<tr><td>datasets                                                       </td><td>sleep                                                          </td><td>Student's Sleep Data                                           </td></tr>\n",
       "\t<tr><td>datasets                                                       </td><td>stack.loss (stackloss)                                         </td><td>Brownlee's Stack Loss Plant Data                               </td></tr>\n",
       "\t<tr><td>datasets                                                       </td><td>stack.x (stackloss)                                            </td><td>Brownlee's Stack Loss Plant Data                               </td></tr>\n",
       "\t<tr><td>datasets                                                       </td><td>stackloss                                                      </td><td>Brownlee's Stack Loss Plant Data                               </td></tr>\n",
       "\t<tr><td>datasets                                                       </td><td>state.abb (state)                                              </td><td>US State Facts and Figures                                     </td></tr>\n",
       "\t<tr><td>datasets                                                       </td><td>state.area (state)                                             </td><td>US State Facts and Figures                                     </td></tr>\n",
       "\t<tr><td>datasets                                                       </td><td>state.center (state)                                           </td><td>US State Facts and Figures                                     </td></tr>\n",
       "\t<tr><td>datasets                                                       </td><td>state.division (state)                                         </td><td>US State Facts and Figures                                     </td></tr>\n",
       "\t<tr><td>datasets                                                       </td><td>state.name (state)                                             </td><td>US State Facts and Figures                                     </td></tr>\n",
       "\t<tr><td>datasets                                                       </td><td>state.region (state)                                           </td><td>US State Facts and Figures                                     </td></tr>\n",
       "\t<tr><td>datasets                                                       </td><td>state.x77 (state)                                              </td><td>US State Facts and Figures                                     </td></tr>\n",
       "\t<tr><td>datasets                                                       </td><td>sunspot.month                                                  </td><td>Monthly Sunspot Data, from 1749 to \"Present\"                   </td></tr>\n",
       "\t<tr><td>datasets                                                       </td><td>sunspot.year                                                   </td><td>Yearly Sunspot Data, 1700-1988                                 </td></tr>\n",
       "\t<tr><td>datasets                                                       </td><td>sunspots                                                       </td><td>Monthly Sunspot Numbers, 1749-1983                             </td></tr>\n",
       "\t<tr><td>datasets                                                       </td><td>swiss                                                          </td><td>Swiss Fertility and Socioeconomic Indicators (1888) Data       </td></tr>\n",
       "\t<tr><td>datasets                                                       </td><td>treering                                                       </td><td>Yearly Treering Data, -6000-1979                               </td></tr>\n",
       "\t<tr><td>datasets                                                       </td><td>trees                                                          </td><td>Diameter, Height and Volume for Black Cherry Trees             </td></tr>\n",
       "\t<tr><td>datasets                                                       </td><td>uspop                                                          </td><td>Populations Recorded by the US Census                          </td></tr>\n",
       "\t<tr><td>datasets                                                       </td><td>volcano                                                        </td><td>Topographic Information on Auckland's Maunga Whau Volcano      </td></tr>\n",
       "\t<tr><td>datasets                                                       </td><td>warpbreaks                                                     </td><td>The Number of Breaks in Yarn during Weaving                    </td></tr>\n",
       "\t<tr><td>datasets                                                       </td><td>women                                                          </td><td>Average Heights and Weights for American Women                 </td></tr>\n",
       "</tbody>\n",
       "</table>\n",
       "\n",
       "<p>Use ‘data(package = .packages(all.available = TRUE))’\n",
       "to list the data sets in all *available* packages.</p>"
      ],
      "text/plain": [
       "Data sets in package ‘datasets’:\n",
       "\n",
       "AirPassengers           Monthly Airline Passenger Numbers 1949-1960\n",
       "BJsales                 Sales Data with Leading Indicator\n",
       "BJsales.lead (BJsales)\n",
       "                        Sales Data with Leading Indicator\n",
       "BOD                     Biochemical Oxygen Demand\n",
       "CO2                     Carbon Dioxide Uptake in Grass Plants\n",
       "ChickWeight             Weight versus age of chicks on different diets\n",
       "DNase                   Elisa assay of DNase\n",
       "EuStockMarkets          Daily Closing Prices of Major European Stock\n",
       "                        Indices, 1991-1998\n",
       "Formaldehyde            Determination of Formaldehyde\n",
       "HairEyeColor            Hair and Eye Color of Statistics Students\n",
       "Harman23.cor            Harman Example 2.3\n",
       "Harman74.cor            Harman Example 7.4\n",
       "Indometh                Pharmacokinetics of Indomethacin\n",
       "InsectSprays            Effectiveness of Insect Sprays\n",
       "JohnsonJohnson          Quarterly Earnings per Johnson & Johnson Share\n",
       "LakeHuron               Level of Lake Huron 1875-1972\n",
       "LifeCycleSavings        Intercountry Life-Cycle Savings Data\n",
       "Loblolly                Growth of Loblolly pine trees\n",
       "Nile                    Flow of the River Nile\n",
       "Orange                  Growth of Orange Trees\n",
       "OrchardSprays           Potency of Orchard Sprays\n",
       "PlantGrowth             Results from an Experiment on Plant Growth\n",
       "Puromycin               Reaction Velocity of an Enzymatic Reaction\n",
       "Seatbelts               Road Casualties in Great Britain 1969-84\n",
       "Theoph                  Pharmacokinetics of Theophylline\n",
       "Titanic                 Survival of passengers on the Titanic\n",
       "ToothGrowth             The Effect of Vitamin C on Tooth Growth in\n",
       "                        Guinea Pigs\n",
       "UCBAdmissions           Student Admissions at UC Berkeley\n",
       "UKDriverDeaths          Road Casualties in Great Britain 1969-84\n",
       "UKgas                   UK Quarterly Gas Consumption\n",
       "USAccDeaths             Accidental Deaths in the US 1973-1978\n",
       "USArrests               Violent Crime Rates by US State\n",
       "USJudgeRatings          Lawyers' Ratings of State Judges in the US\n",
       "                        Superior Court\n",
       "USPersonalExpenditure   Personal Expenditure Data\n",
       "UScitiesD               Distances Between European Cities and Between\n",
       "                        US Cities\n",
       "VADeaths                Death Rates in Virginia (1940)\n",
       "WWWusage                Internet Usage per Minute\n",
       "WorldPhones             The World's Telephones\n",
       "ability.cov             Ability and Intelligence Tests\n",
       "airmiles                Passenger Miles on Commercial US Airlines,\n",
       "                        1937-1960\n",
       "airquality              New York Air Quality Measurements\n",
       "anscombe                Anscombe's Quartet of 'Identical' Simple Linear\n",
       "                        Regressions\n",
       "attenu                  The Joyner-Boore Attenuation Data\n",
       "attitude                The Chatterjee-Price Attitude Data\n",
       "austres                 Quarterly Time Series of the Number of\n",
       "                        Australian Residents\n",
       "beaver1 (beavers)       Body Temperature Series of Two Beavers\n",
       "beaver2 (beavers)       Body Temperature Series of Two Beavers\n",
       "cars                    Speed and Stopping Distances of Cars\n",
       "chickwts                Chicken Weights by Feed Type\n",
       "co2                     Mauna Loa Atmospheric CO2 Concentration\n",
       "crimtab                 Student's 3000 Criminals Data\n",
       "discoveries             Yearly Numbers of Important Discoveries\n",
       "esoph                   Smoking, Alcohol and (O)esophageal Cancer\n",
       "euro                    Conversion Rates of Euro Currencies\n",
       "euro.cross (euro)       Conversion Rates of Euro Currencies\n",
       "eurodist                Distances Between European Cities and Between\n",
       "                        US Cities\n",
       "faithful                Old Faithful Geyser Data\n",
       "fdeaths (UKLungDeaths)\n",
       "                        Monthly Deaths from Lung Diseases in the UK\n",
       "freeny                  Freeny's Revenue Data\n",
       "freeny.x (freeny)       Freeny's Revenue Data\n",
       "freeny.y (freeny)       Freeny's Revenue Data\n",
       "infert                  Infertility after Spontaneous and Induced\n",
       "                        Abortion\n",
       "iris                    Edgar Anderson's Iris Data\n",
       "iris3                   Edgar Anderson's Iris Data\n",
       "islands                 Areas of the World's Major Landmasses\n",
       "ldeaths (UKLungDeaths)\n",
       "                        Monthly Deaths from Lung Diseases in the UK\n",
       "lh                      Luteinizing Hormone in Blood Samples\n",
       "longley                 Longley's Economic Regression Data\n",
       "lynx                    Annual Canadian Lynx trappings 1821-1934\n",
       "mdeaths (UKLungDeaths)\n",
       "                        Monthly Deaths from Lung Diseases in the UK\n",
       "morley                  Michelson Speed of Light Data\n",
       "mtcars                  Motor Trend Car Road Tests\n",
       "nhtemp                  Average Yearly Temperatures in New Haven\n",
       "nottem                  Average Monthly Temperatures at Nottingham,\n",
       "                        1920-1939\n",
       "npk                     Classical N, P, K Factorial Experiment\n",
       "occupationalStatus      Occupational Status of Fathers and their Sons\n",
       "precip                  Annual Precipitation in US Cities\n",
       "presidents              Quarterly Approval Ratings of US Presidents\n",
       "pressure                Vapor Pressure of Mercury as a Function of\n",
       "                        Temperature\n",
       "quakes                  Locations of Earthquakes off Fiji\n",
       "randu                   Random Numbers from Congruential Generator\n",
       "                        RANDU\n",
       "rivers                  Lengths of Major North American Rivers\n",
       "rock                    Measurements on Petroleum Rock Samples\n",
       "sleep                   Student's Sleep Data\n",
       "stack.loss (stackloss)\n",
       "                        Brownlee's Stack Loss Plant Data\n",
       "stack.x (stackloss)     Brownlee's Stack Loss Plant Data\n",
       "stackloss               Brownlee's Stack Loss Plant Data\n",
       "state.abb (state)       US State Facts and Figures\n",
       "state.area (state)      US State Facts and Figures\n",
       "state.center (state)    US State Facts and Figures\n",
       "state.division (state)\n",
       "                        US State Facts and Figures\n",
       "state.name (state)      US State Facts and Figures\n",
       "state.region (state)    US State Facts and Figures\n",
       "state.x77 (state)       US State Facts and Figures\n",
       "sunspot.month           Monthly Sunspot Data, from 1749 to \"Present\"\n",
       "sunspot.year            Yearly Sunspot Data, 1700-1988\n",
       "sunspots                Monthly Sunspot Numbers, 1749-1983\n",
       "swiss                   Swiss Fertility and Socioeconomic Indicators\n",
       "                        (1888) Data\n",
       "treering                Yearly Treering Data, -6000-1979\n",
       "trees                   Diameter, Height and Volume for Black Cherry\n",
       "                        Trees\n",
       "uspop                   Populations Recorded by the US Census\n",
       "volcano                 Topographic Information on Auckland's Maunga\n",
       "                        Whau Volcano\n",
       "warpbreaks              The Number of Breaks in Yarn during Weaving\n",
       "women                   Average Heights and Weights for American Women\n",
       "\n",
       "Use ‘data(package = .packages(all.available = TRUE))’\n",
       "to list the data sets in all *available* packages."
      ]
     },
     "metadata": {},
     "output_type": "display_data"
    }
   ],
   "source": [
    "data() # browse pre-loaded data sets"
   ]
  },
  {
   "cell_type": "code",
   "execution_count": 3,
   "id": "5ee643e2",
   "metadata": {},
   "outputs": [],
   "source": [
    "data(rivers) # use the package "
   ]
  },
  {
   "cell_type": "code",
   "execution_count": 4,
   "id": "01a061be",
   "metadata": {},
   "outputs": [
    {
     "data": {
      "text/html": [
       "'rivers'"
      ],
      "text/latex": [
       "'rivers'"
      ],
      "text/markdown": [
       "'rivers'"
      ],
      "text/plain": [
       "[1] \"rivers\""
      ]
     },
     "metadata": {},
     "output_type": "display_data"
    }
   ],
   "source": [
    "ls() # show the variables present in the workspace"
   ]
  },
  {
   "cell_type": "code",
   "execution_count": 5,
   "id": "872c56ae",
   "metadata": {},
   "outputs": [
    {
     "data": {
      "text/html": [
       "<ol class=list-inline>\n",
       "\t<li>735</li>\n",
       "\t<li>320</li>\n",
       "\t<li>325</li>\n",
       "\t<li>392</li>\n",
       "\t<li>524</li>\n",
       "\t<li>450</li>\n",
       "</ol>\n"
      ],
      "text/latex": [
       "\\begin{enumerate*}\n",
       "\\item 735\n",
       "\\item 320\n",
       "\\item 325\n",
       "\\item 392\n",
       "\\item 524\n",
       "\\item 450\n",
       "\\end{enumerate*}\n"
      ],
      "text/markdown": [
       "1. 735\n",
       "2. 320\n",
       "3. 325\n",
       "4. 392\n",
       "5. 524\n",
       "6. 450\n",
       "\n",
       "\n"
      ],
      "text/plain": [
       "[1] 735 320 325 392 524 450"
      ]
     },
     "metadata": {},
     "output_type": "display_data"
    }
   ],
   "source": [
    "head(rivers) #peeks at the data set"
   ]
  },
  {
   "cell_type": "code",
   "execution_count": 6,
   "id": "cec1c52b",
   "metadata": {},
   "outputs": [
    {
     "data": {
      "text/html": [
       "141"
      ],
      "text/latex": [
       "141"
      ],
      "text/markdown": [
       "141"
      ],
      "text/plain": [
       "[1] 141"
      ]
     },
     "metadata": {},
     "output_type": "display_data"
    }
   ],
   "source": [
    "length(rivers)  # how many rivers were measured?"
   ]
  },
  {
   "cell_type": "code",
   "execution_count": 7,
   "id": "4ea9da67",
   "metadata": {},
   "outputs": [
    {
     "data": {
      "text/plain": [
       "   Min. 1st Qu.  Median    Mean 3rd Qu.    Max. \n",
       "  135.0   310.0   425.0   591.2   680.0  3710.0 "
      ]
     },
     "metadata": {},
     "output_type": "display_data"
    }
   ],
   "source": [
    "summary(rivers) # what are some summary statistics?"
   ]
  },
  {
   "cell_type": "code",
   "execution_count": 8,
   "id": "3205e5cc",
   "metadata": {},
   "outputs": [
    {
     "name": "stdout",
     "output_type": "stream",
     "text": [
      "\n",
      "  The decimal point is 2 digit(s) to the right of the |\n",
      "\n",
      "   0 | 4\n",
      "   2 | 011223334555566667778888899900001111223333344455555666688888999\n",
      "   4 | 111222333445566779001233344567\n",
      "   6 | 000112233578012234468\n",
      "   8 | 045790018\n",
      "  10 | 04507\n",
      "  12 | 1471\n",
      "  14 | 56\n",
      "  16 | 7\n",
      "  18 | 9\n",
      "  20 | \n",
      "  22 | 25\n",
      "  24 | 3\n",
      "  26 | \n",
      "  28 | \n",
      "  30 | \n",
      "  32 | \n",
      "  34 | \n",
      "  36 | 1\n",
      "\n"
     ]
    }
   ],
   "source": [
    "# make a stem-and-leaf plot (a histogram-like data visualization)\n",
    "stem(rivers)"
   ]
  },
  {
   "cell_type": "code",
   "execution_count": 9,
   "id": "dbb1c8b4",
   "metadata": {},
   "outputs": [
    {
     "name": "stdout",
     "output_type": "stream",
     "text": [
      "\n",
      "  The decimal point is 1 digit(s) to the left of the |\n",
      "\n",
      "  48 | 1\n",
      "  50 | \n",
      "  52 | 15578\n",
      "  54 | 44571222466689\n",
      "  56 | 023334677000124455789\n",
      "  58 | 00122366666999933445777\n",
      "  60 | 122445567800133459\n",
      "  62 | 112666799035\n",
      "  64 | 00011334581257889\n",
      "  66 | 003683579\n",
      "  68 | 0019156\n",
      "  70 | 079357\n",
      "  72 | 89\n",
      "  74 | 84\n",
      "  76 | 56\n",
      "  78 | 4\n",
      "  80 | \n",
      "  82 | 2\n",
      "\n"
     ]
    }
   ],
   "source": [
    "stem(log(rivers)) # Notice that the data are neither normal nor log-normal!\n",
    "# Take that, Bell curve fundamentalists."
   ]
  },
  {
   "cell_type": "code",
   "execution_count": 10,
   "id": "c03e27fc",
   "metadata": {},
   "outputs": [],
   "source": [
    "library(repr)"
   ]
  },
  {
   "cell_type": "code",
   "execution_count": 11,
   "id": "c633b330",
   "metadata": {},
   "outputs": [],
   "source": [
    "options(repr.plot.width=4, repr.plot.height=4 )"
   ]
  },
  {
   "cell_type": "code",
   "execution_count": 12,
   "id": "13021cef",
   "metadata": {},
   "outputs": [
    {
     "data": {
      "image/png": "[encoded data removed]",
      "text/plain": [
       "Plot with title “Histogram of rivers”"
      ]
     },
     "metadata": {},
     "output_type": "display_data"
    }
   ],
   "source": [
    "hist(rivers, col=\"#333333\", border=\"white\", breaks=25)"
   ]
  },
  {
   "cell_type": "code",
   "execution_count": 13,
   "id": "a3f731da",
   "metadata": {},
   "outputs": [
    {
     "data": {
      "image/png": "[encoded data removed]",
      "text/plain": [
       "Plot with title “Histogram of log(rivers)”"
      ]
     },
     "metadata": {},
     "output_type": "display_data"
    }
   ],
   "source": [
    "hist(log(rivers), col=\"#333333\", border=\"white\", breaks=25)"
   ]
  },
  {
   "cell_type": "code",
   "execution_count": 14,
   "id": "061bd751",
   "metadata": {},
   "outputs": [],
   "source": [
    "# Here's another neat data set that comes pre-loaded. R has tons of these.\n",
    "data(discoveries)"
   ]
  },
  {
   "cell_type": "code",
   "execution_count": 15,
   "id": "95274fcf",
   "metadata": {},
   "outputs": [
    {
     "data": {
      "text/html": [
       "<ol class=list-inline>\n",
       "\t<li>'discoveries'</li>\n",
       "\t<li>'rivers'</li>\n",
       "</ol>\n"
      ],
      "text/latex": [
       "\\begin{enumerate*}\n",
       "\\item 'discoveries'\n",
       "\\item 'rivers'\n",
       "\\end{enumerate*}\n"
      ],
      "text/markdown": [
       "1. 'discoveries'\n",
       "2. 'rivers'\n",
       "\n",
       "\n"
      ],
      "text/plain": [
       "[1] \"discoveries\" \"rivers\"     "
      ]
     },
     "metadata": {},
     "output_type": "display_data"
    }
   ],
   "source": [
    "ls()"
   ]
  },
  {
   "cell_type": "code",
   "execution_count": 16,
   "id": "d1ca9c0c",
   "metadata": {},
   "outputs": [
    {
     "data": {
      "image/png": "[encoded data removed]",
      "text/plain": [
       "Plot with title “no of discoveries per year”"
      ]
     },
     "metadata": {},
     "output_type": "display_data"
    }
   ],
   "source": [
    "plot(discoveries, col=\"#333333\", lwd=3, xlab=\"Year\", main=\"no of discoveries per year\")"
   ]
  },
  {
   "cell_type": "code",
   "execution_count": 17,
   "id": "91e51c31",
   "metadata": {},
   "outputs": [
    {
     "data": {
      "image/png": "[encoded data removed]",
      "text/plain": [
       "Plot with title “Number of important discoveries per year”"
      ]
     },
     "metadata": {},
     "output_type": "display_data"
    }
   ],
   "source": [
    "plot(discoveries, col=\"#333333\", lwd=3, type = \"h\", xlab=\"Year\",main=\"Number of important discoveries per year\")"
   ]
  },
  {
   "cell_type": "code",
   "execution_count": 18,
   "id": "d66a6719",
   "metadata": {},
   "outputs": [
    {
     "data": {
      "text/html": [
       "<ol class=list-inline>\n",
       "\t<li>5</li>\n",
       "\t<li>3</li>\n",
       "\t<li>0</li>\n",
       "\t<li>2</li>\n",
       "\t<li>0</li>\n",
       "\t<li>3</li>\n",
       "</ol>\n"
      ],
      "text/latex": [
       "\\begin{enumerate*}\n",
       "\\item 5\n",
       "\\item 3\n",
       "\\item 0\n",
       "\\item 2\n",
       "\\item 0\n",
       "\\item 3\n",
       "\\end{enumerate*}\n"
      ],
      "text/markdown": [
       "1. 5\n",
       "2. 3\n",
       "3. 0\n",
       "4. 2\n",
       "5. 0\n",
       "6. 3\n",
       "\n",
       "\n"
      ],
      "text/plain": [
       "[1] 5 3 0 2 0 3"
      ]
     },
     "metadata": {},
     "output_type": "display_data"
    }
   ],
   "source": [
    "head(discoveries)"
   ]
  },
  {
   "cell_type": "code",
   "execution_count": 19,
   "id": "55a7175b",
   "metadata": {},
   "outputs": [
    {
     "data": {
      "text/plain": [
       "   Min. 1st Qu.  Median    Mean 3rd Qu.    Max. \n",
       "    0.0     2.0     3.0     3.1     4.0    12.0 "
      ]
     },
     "metadata": {},
     "output_type": "display_data"
    }
   ],
   "source": [
    "summary(discoveries)"
   ]
  },
  {
   "cell_type": "code",
   "execution_count": 20,
   "id": "72554697",
   "metadata": {},
   "outputs": [
    {
     "name": "stdout",
     "output_type": "stream",
     "text": [
      "  [1]  0  0  0  0  0  0  0  0  0  1  1  1  1  1  1  1  1  1  1  1  1  2  2  2  2\n",
      " [26]  2  2  2  2  2  2  2  2  2  2  2  2  2  2  2  2  2  2  2  2  2  2  3  3  3\n",
      " [51]  3  3  3  3  3  3  3  3  3  3  3  3  3  3  3  3  3  4  4  4  4  4  4  4  4\n",
      " [76]  4  4  4  4  5  5  5  5  5  5  5  6  6  6  6  6  6  7  7  7  7  8  9 10 12\n"
     ]
    }
   ],
   "source": [
    "# Rather than leaving the default ordering (by year),\n",
    "# we could also sort to see what's typical:\n",
    "print(sort(discoveries))"
   ]
  },
  {
   "cell_type": "code",
   "execution_count": 21,
   "id": "b99c429c",
   "metadata": {},
   "outputs": [
    {
     "name": "stdout",
     "output_type": "stream",
     "text": [
      "\n",
      "  The decimal point is at the |\n",
      "\n",
      "   0 | 000000000\n",
      "   1 | 000000000000\n",
      "   2 | 00000000000000000000000000\n",
      "   3 | 00000000000000000000\n",
      "   4 | 000000000000\n",
      "   5 | 0000000\n",
      "   6 | 000000\n",
      "   7 | 0000\n",
      "   8 | 0\n",
      "   9 | 0\n",
      "  10 | 0\n",
      "  11 | \n",
      "  12 | 0\n",
      "\n"
     ]
    }
   ],
   "source": [
    "stem(discoveries, scale=2)"
   ]
  },
  {
   "cell_type": "code",
   "execution_count": 22,
   "id": "3b7bfdaf",
   "metadata": {},
   "outputs": [
    {
     "data": {
      "text/html": [
       "12"
      ],
      "text/latex": [
       "12"
      ],
      "text/markdown": [
       "12"
      ],
      "text/plain": [
       "[1] 12"
      ]
     },
     "metadata": {},
     "output_type": "display_data"
    }
   ],
   "source": [
    "max(discoveries)"
   ]
  },
  {
   "cell_type": "code",
   "execution_count": 23,
   "id": "a1232f3d",
   "metadata": {},
   "outputs": [
    {
     "data": {
      "text/html": [
       "<ol class=list-inline>\n",
       "\t<li>6</li>\n",
       "\t<li>6</li>\n",
       "\t<li>6</li>\n",
       "\t<li>5</li>\n",
       "\t<li>6</li>\n",
       "\t<li>5</li>\n",
       "\t<li>6</li>\n",
       "</ol>\n"
      ],
      "text/latex": [
       "\\begin{enumerate*}\n",
       "\\item 6\n",
       "\\item 6\n",
       "\\item 6\n",
       "\\item 5\n",
       "\\item 6\n",
       "\\item 5\n",
       "\\item 6\n",
       "\\end{enumerate*}\n"
      ],
      "text/markdown": [
       "1. 6\n",
       "2. 6\n",
       "3. 6\n",
       "4. 5\n",
       "5. 6\n",
       "6. 5\n",
       "7. 6\n",
       "\n",
       "\n"
      ],
      "text/plain": [
       "[1] 6 6 6 5 6 5 6"
      ]
     },
     "metadata": {},
     "output_type": "display_data"
    }
   ],
   "source": [
    "round(runif(7, min=5, max=6.5))"
   ]
  },
  {
   "cell_type": "code",
   "execution_count": 24,
   "id": "30920c72",
   "metadata": {},
   "outputs": [
    {
     "data": {
      "text/html": [
       "<ol class=list-inline>\n",
       "\t<li>0.203281209571786</li>\n",
       "\t<li>-0.905438061267734</li>\n",
       "\t<li>-0.60768185727872</li>\n",
       "\t<li>-0.344456235381971</li>\n",
       "\t<li>0.745508232703505</li>\n",
       "\t<li>1.21345068641047</li>\n",
       "\t<li>0.101423848493596</li>\n",
       "\t<li>-0.311724874336212</li>\n",
       "\t<li>-2.63719986782498</li>\n",
       "</ol>\n"
      ],
      "text/latex": [
       "\\begin{enumerate*}\n",
       "\\item 0.203281209571786\n",
       "\\item -0.905438061267734\n",
       "\\item -0.60768185727872\n",
       "\\item -0.344456235381971\n",
       "\\item 0.745508232703505\n",
       "\\item 1.21345068641047\n",
       "\\item 0.101423848493596\n",
       "\\item -0.311724874336212\n",
       "\\item -2.63719986782498\n",
       "\\end{enumerate*}\n"
      ],
      "text/markdown": [
       "1. 0.203281209571786\n",
       "2. -0.905438061267734\n",
       "3. -0.60768185727872\n",
       "4. -0.344456235381971\n",
       "5. 0.745508232703505\n",
       "6. 1.21345068641047\n",
       "7. 0.101423848493596\n",
       "8. -0.311724874336212\n",
       "9. -2.63719986782498\n",
       "\n",
       "\n"
      ],
      "text/plain": [
       "[1]  0.2032812 -0.9054381 -0.6076819 -0.3444562  0.7455082  1.2134507  0.1014238\n",
       "[8] -0.3117249 -2.6371999"
      ]
     },
     "metadata": {},
     "output_type": "display_data"
    }
   ],
   "source": [
    "rnorm(9)"
   ]
  },
  {
   "cell_type": "markdown",
   "id": "9ab7bb73",
   "metadata": {},
   "source": [
    "## Data Types and basic Arithmetic"
   ]
  },
  {
   "cell_type": "markdown",
   "id": "352628a0",
   "metadata": {},
   "source": [
    "### Integers\n",
    " Long-storage integers are written with L"
   ]
  },
  {
   "cell_type": "code",
   "execution_count": 25,
   "id": "71212d4e",
   "metadata": {},
   "outputs": [
    {
     "data": {
      "text/html": [
       "5"
      ],
      "text/latex": [
       "5"
      ],
      "text/markdown": [
       "5"
      ],
      "text/plain": [
       "[1] 5"
      ]
     },
     "metadata": {},
     "output_type": "display_data"
    },
    {
     "data": {
      "text/html": [
       "'integer'"
      ],
      "text/latex": [
       "'integer'"
      ],
      "text/markdown": [
       "'integer'"
      ],
      "text/plain": [
       "[1] \"integer\""
      ]
     },
     "metadata": {},
     "output_type": "display_data"
    }
   ],
   "source": [
    "5L\n",
    "class(5L)"
   ]
  },
  {
   "cell_type": "code",
   "execution_count": 26,
   "id": "e2c4fd95",
   "metadata": {},
   "outputs": [
    {
     "data": {
      "text/html": [
       "1"
      ],
      "text/latex": [
       "1"
      ],
      "text/markdown": [
       "1"
      ],
      "text/plain": [
       "[1] 1"
      ]
     },
     "metadata": {},
     "output_type": "display_data"
    }
   ],
   "source": [
    "# In R, every single value, like 5L, is considered a vector of length 1\n",
    "length(5L) #length of an integer is always 1"
   ]
  },
  {
   "cell_type": "code",
   "execution_count": 27,
   "id": "fc5e4da7",
   "metadata": {},
   "outputs": [
    {
     "data": {
      "text/html": [
       "<ol class=list-inline>\n",
       "\t<li>4</li>\n",
       "\t<li>5</li>\n",
       "\t<li>8</li>\n",
       "\t<li>3</li>\n",
       "</ol>\n"
      ],
      "text/latex": [
       "\\begin{enumerate*}\n",
       "\\item 4\n",
       "\\item 5\n",
       "\\item 8\n",
       "\\item 3\n",
       "\\end{enumerate*}\n"
      ],
      "text/markdown": [
       "1. 4\n",
       "2. 5\n",
       "3. 8\n",
       "4. 3\n",
       "\n",
       "\n"
      ],
      "text/plain": [
       "[1] 4 5 8 3"
      ]
     },
     "metadata": {},
     "output_type": "display_data"
    },
    {
     "data": {
      "text/html": [
       "4"
      ],
      "text/latex": [
       "4"
      ],
      "text/markdown": [
       "4"
      ],
      "text/plain": [
       "[1] 4"
      ]
     },
     "metadata": {},
     "output_type": "display_data"
    },
    {
     "data": {
      "text/html": [
       "'integer'"
      ],
      "text/latex": [
       "'integer'"
      ],
      "text/markdown": [
       "'integer'"
      ],
      "text/plain": [
       "[1] \"integer\""
      ]
     },
     "metadata": {},
     "output_type": "display_data"
    }
   ],
   "source": [
    "# You can have an integer vector with length > 1 too:\n",
    "c(4L, 5L, 8L, 3L) # 4 5 8 3\n",
    "length(c(4L, 5L, 8L, 3L)) # 4\n",
    "class(c(4L, 5L, 8L, 3L)) # \"integer\""
   ]
  },
  {
   "cell_type": "markdown",
   "id": "86edc251",
   "metadata": {},
   "source": [
    "### Numeric\n",
    "A \"numeric\" is a double-precision floating-point number"
   ]
  },
  {
   "cell_type": "code",
   "execution_count": 28,
   "id": "1d32da79",
   "metadata": {},
   "outputs": [
    {
     "data": {
      "text/html": [
       "5"
      ],
      "text/latex": [
       "5"
      ],
      "text/markdown": [
       "5"
      ],
      "text/plain": [
       "[1] 5"
      ]
     },
     "metadata": {},
     "output_type": "display_data"
    },
    {
     "data": {
      "text/html": [
       "'numeric'"
      ],
      "text/latex": [
       "'numeric'"
      ],
      "text/markdown": [
       "'numeric'"
      ],
      "text/plain": [
       "[1] \"numeric\""
      ]
     },
     "metadata": {},
     "output_type": "display_data"
    }
   ],
   "source": [
    "5\n",
    "class(5)"
   ]
  },
  {
   "cell_type": "code",
   "execution_count": 29,
   "id": "7c3f0cce",
   "metadata": {},
   "outputs": [
    {
     "data": {
      "text/html": [
       "50000"
      ],
      "text/latex": [
       "50000"
      ],
      "text/markdown": [
       "50000"
      ],
      "text/plain": [
       "[1] 50000"
      ]
     },
     "metadata": {},
     "output_type": "display_data"
    },
    {
     "data": {
      "text/html": [
       "6.02e+23"
      ],
      "text/latex": [
       "6.02e+23"
      ],
      "text/markdown": [
       "6.02e+23"
      ],
      "text/plain": [
       "[1] 6.02e+23"
      ]
     },
     "metadata": {},
     "output_type": "display_data"
    },
    {
     "data": {
      "text/html": [
       "'numeric'"
      ],
      "text/latex": [
       "'numeric'"
      ],
      "text/markdown": [
       "'numeric'"
      ],
      "text/plain": [
       "[1] \"numeric\""
      ]
     },
     "metadata": {},
     "output_type": "display_data"
    },
    {
     "data": {
      "text/html": [
       "'numeric'"
      ],
      "text/latex": [
       "'numeric'"
      ],
      "text/markdown": [
       "'numeric'"
      ],
      "text/plain": [
       "[1] \"numeric\""
      ]
     },
     "metadata": {},
     "output_type": "display_data"
    }
   ],
   "source": [
    "5e4\n",
    "6.02e23\n",
    "class(Inf)\n",
    "class(-Inf)"
   ]
  },
  {
   "cell_type": "markdown",
   "id": "dbc247ba",
   "metadata": {},
   "source": [
    "### Basic Arithmetic "
   ]
  },
  {
   "cell_type": "code",
   "execution_count": 30,
   "id": "fa86bcb5",
   "metadata": {},
   "outputs": [
    {
     "data": {
      "text/html": [
       "76"
      ],
      "text/latex": [
       "76"
      ],
      "text/markdown": [
       "76"
      ],
      "text/plain": [
       "[1] 76"
      ]
     },
     "metadata": {},
     "output_type": "display_data"
    }
   ],
   "source": [
    "10L + 66L  # integer plus integer gives integer"
   ]
  },
  {
   "cell_type": "code",
   "execution_count": 31,
   "id": "2803e5b4",
   "metadata": {},
   "outputs": [
    {
     "data": {
      "text/html": [
       "49.2"
      ],
      "text/latex": [
       "49.2"
      ],
      "text/markdown": [
       "49.2"
      ],
      "text/plain": [
       "[1] 49.2"
      ]
     },
     "metadata": {},
     "output_type": "display_data"
    }
   ],
   "source": [
    "53.2 - 4 # numeric minus numeric gives numeric"
   ]
  },
  {
   "cell_type": "code",
   "execution_count": 32,
   "id": "f021f8b3",
   "metadata": {},
   "outputs": [
    {
     "data": {
      "text/html": [
       "0.75"
      ],
      "text/latex": [
       "0.75"
      ],
      "text/markdown": [
       "0.75"
      ],
      "text/plain": [
       "[1] 0.75"
      ]
     },
     "metadata": {},
     "output_type": "display_data"
    }
   ],
   "source": [
    "3L / 4 # integer over numeric gives numeric"
   ]
  },
  {
   "cell_type": "code",
   "execution_count": 33,
   "id": "075dc7f4",
   "metadata": {},
   "outputs": [
    {
     "data": {
      "text/html": [
       "4"
      ],
      "text/latex": [
       "4"
      ],
      "text/markdown": [
       "4"
      ],
      "text/plain": [
       "[1] 4"
      ]
     },
     "metadata": {},
     "output_type": "display_data"
    }
   ],
   "source": [
    "2.0 * 2L  # numeric times integer gives numeric"
   ]
  },
  {
   "cell_type": "code",
   "execution_count": 34,
   "id": "6f4b067b",
   "metadata": {},
   "outputs": [
    {
     "data": {
      "text/html": [
       "1"
      ],
      "text/latex": [
       "1"
      ],
      "text/markdown": [
       "1"
      ],
      "text/plain": [
       "[1] 1"
      ]
     },
     "metadata": {},
     "output_type": "display_data"
    }
   ],
   "source": [
    "3 %% 2 # the remainder of two numerics is another numeric"
   ]
  },
  {
   "cell_type": "code",
   "execution_count": 35,
   "id": "daa81a53",
   "metadata": {},
   "outputs": [
    {
     "data": {
      "text/html": [
       "NaN"
      ],
      "text/latex": [
       "NaN"
      ],
      "text/markdown": [
       "NaN"
      ],
      "text/plain": [
       "[1] NaN"
      ]
     },
     "metadata": {},
     "output_type": "display_data"
    }
   ],
   "source": [
    "0/0 # Illegal arithmetic yields you a \"not-a-number\""
   ]
  },
  {
   "cell_type": "code",
   "execution_count": 36,
   "id": "5918b2b0",
   "metadata": {},
   "outputs": [
    {
     "data": {
      "text/html": [
       "'numeric'"
      ],
      "text/latex": [
       "'numeric'"
      ],
      "text/markdown": [
       "'numeric'"
      ],
      "text/plain": [
       "[1] \"numeric\""
      ]
     },
     "metadata": {},
     "output_type": "display_data"
    }
   ],
   "source": [
    "class(NaN)"
   ]
  },
  {
   "cell_type": "code",
   "execution_count": 37,
   "id": "de3de333",
   "metadata": {},
   "outputs": [
    {
     "data": {
      "text/html": [
       "<ol class=list-inline>\n",
       "\t<li>2</li>\n",
       "\t<li>4</li>\n",
       "\t<li>6</li>\n",
       "</ol>\n"
      ],
      "text/latex": [
       "\\begin{enumerate*}\n",
       "\\item 2\n",
       "\\item 4\n",
       "\\item 6\n",
       "\\end{enumerate*}\n"
      ],
      "text/markdown": [
       "1. 2\n",
       "2. 4\n",
       "3. 6\n",
       "\n",
       "\n"
      ],
      "text/plain": [
       "[1] 2 4 6"
      ]
     },
     "metadata": {},
     "output_type": "display_data"
    }
   ],
   "source": [
    "# You can do arithmetic on two vectors with length greater than 1,\n",
    "# so long as the larger vector's length is an integer multiple of the smaller\n",
    "c(1,2,3) + c(1,2,3) # 2 4 6"
   ]
  },
  {
   "cell_type": "code",
   "execution_count": 38,
   "id": "cf100e98",
   "metadata": {},
   "outputs": [
    {
     "data": {
      "text/html": [
       "<ol class=list-inline>\n",
       "\t<li>1</li>\n",
       "\t<li>3</li>\n",
       "\t<li>5</li>\n",
       "</ol>\n"
      ],
      "text/latex": [
       "\\begin{enumerate*}\n",
       "\\item 1\n",
       "\\item 3\n",
       "\\item 5\n",
       "\\end{enumerate*}\n"
      ],
      "text/markdown": [
       "1. 1\n",
       "2. 3\n",
       "3. 5\n",
       "\n",
       "\n"
      ],
      "text/plain": [
       "[1] 1 3 5"
      ]
     },
     "metadata": {},
     "output_type": "display_data"
    }
   ],
   "source": [
    "# Since a single number is a vector of length one, scalars are applied \n",
    "# elementwise to vectors\n",
    "(4 * c(1,2,3) - 2) / 2 # 1 3 5"
   ]
  },
  {
   "cell_type": "code",
   "execution_count": 39,
   "id": "d9081dcd",
   "metadata": {},
   "outputs": [
    {
     "data": {
      "text/html": [
       "<ol class=list-inline>\n",
       "\t<li>1</li>\n",
       "\t<li>4</li>\n",
       "\t<li>3</li>\n",
       "\t<li>2</li>\n",
       "\t<li>2</li>\n",
       "\t<li>6</li>\n",
       "</ol>\n"
      ],
      "text/latex": [
       "\\begin{enumerate*}\n",
       "\\item 1\n",
       "\\item 4\n",
       "\\item 3\n",
       "\\item 2\n",
       "\\item 2\n",
       "\\item 6\n",
       "\\end{enumerate*}\n"
      ],
      "text/markdown": [
       "1. 1\n",
       "2. 4\n",
       "3. 3\n",
       "4. 2\n",
       "5. 2\n",
       "6. 6\n",
       "\n",
       "\n"
      ],
      "text/plain": [
       "[1] 1 4 3 2 2 6"
      ]
     },
     "metadata": {},
     "output_type": "display_data"
    }
   ],
   "source": [
    "# Except for scalars, use caution when performing arithmetic on vectors with \n",
    "# different lengths. Although it can be done, \n",
    "c(1,2,3,1,2,3) * c(1,2) # 1 4 3 2 2 6"
   ]
  },
  {
   "cell_type": "code",
   "execution_count": 40,
   "id": "8f2ac00a",
   "metadata": {},
   "outputs": [
    {
     "data": {
      "text/html": [
       "<ol class=list-inline>\n",
       "\t<li>1</li>\n",
       "\t<li>4</li>\n",
       "\t<li>3</li>\n",
       "\t<li>2</li>\n",
       "\t<li>2</li>\n",
       "\t<li>6</li>\n",
       "</ol>\n"
      ],
      "text/latex": [
       "\\begin{enumerate*}\n",
       "\\item 1\n",
       "\\item 4\n",
       "\\item 3\n",
       "\\item 2\n",
       "\\item 2\n",
       "\\item 6\n",
       "\\end{enumerate*}\n"
      ],
      "text/markdown": [
       "1. 1\n",
       "2. 4\n",
       "3. 3\n",
       "4. 2\n",
       "5. 2\n",
       "6. 6\n",
       "\n",
       "\n"
      ],
      "text/plain": [
       "[1] 1 4 3 2 2 6"
      ]
     },
     "metadata": {},
     "output_type": "display_data"
    }
   ],
   "source": [
    "# Matching lengths is better practice and easier to read\n",
    "c(1,2,3,1,2,3) * c(1,2,1,2,1,2) "
   ]
  },
  {
   "cell_type": "markdown",
   "id": "bb1b7c4e",
   "metadata": {},
   "source": [
    "### Characters\n",
    "There's no difference between strings and characters in R"
   ]
  },
  {
   "cell_type": "code",
   "execution_count": 41,
   "id": "cfe81407",
   "metadata": {},
   "outputs": [
    {
     "data": {
      "text/html": [
       "'Shivanshu'"
      ],
      "text/latex": [
       "'Shivanshu'"
      ],
      "text/markdown": [
       "'Shivanshu'"
      ],
      "text/plain": [
       "[1] \"Shivanshu\""
      ]
     },
     "metadata": {},
     "output_type": "display_data"
    }
   ],
   "source": [
    "\"Shivanshu\""
   ]
  },
  {
   "cell_type": "code",
   "execution_count": 42,
   "id": "61a28079",
   "metadata": {},
   "outputs": [
    {
     "data": {
      "text/html": [
       "'character'"
      ],
      "text/latex": [
       "'character'"
      ],
      "text/markdown": [
       "'character'"
      ],
      "text/plain": [
       "[1] \"character\""
      ]
     },
     "metadata": {},
     "output_type": "display_data"
    }
   ],
   "source": [
    "class(\"Shivanshu\")"
   ]
  },
  {
   "cell_type": "code",
   "execution_count": 43,
   "id": "e2eed724",
   "metadata": {},
   "outputs": [
    {
     "data": {
      "text/html": [
       "'character'"
      ],
      "text/latex": [
       "'character'"
      ],
      "text/markdown": [
       "'character'"
      ],
      "text/plain": [
       "[1] \"character\""
      ]
     },
     "metadata": {},
     "output_type": "display_data"
    }
   ],
   "source": [
    "class('S')"
   ]
  },
  {
   "cell_type": "code",
   "execution_count": 44,
   "id": "84701c21",
   "metadata": {},
   "outputs": [
    {
     "data": {
      "text/html": [
       "<ol class=list-inline>\n",
       "\t<li>'shivnashu'</li>\n",
       "\t<li>'shis'</li>\n",
       "\t<li>'asn'</li>\n",
       "</ol>\n"
      ],
      "text/latex": [
       "\\begin{enumerate*}\n",
       "\\item 'shivnashu'\n",
       "\\item 'shis'\n",
       "\\item 'asn'\n",
       "\\end{enumerate*}\n"
      ],
      "text/markdown": [
       "1. 'shivnashu'\n",
       "2. 'shis'\n",
       "3. 'asn'\n",
       "\n",
       "\n"
      ],
      "text/plain": [
       "[1] \"shivnashu\" \"shis\"      \"asn\"      "
      ]
     },
     "metadata": {},
     "output_type": "display_data"
    }
   ],
   "source": [
    "# Vector of strings\n",
    "c('shivnashu', 'shis', 'asn')"
   ]
  },
  {
   "cell_type": "code",
   "execution_count": 45,
   "id": "29e0a565",
   "metadata": {},
   "outputs": [
    {
     "data": {
      "text/html": [
       "'shi'"
      ],
      "text/latex": [
       "'shi'"
      ],
      "text/markdown": [
       "'shi'"
      ],
      "text/plain": [
       "[1] \"shi\""
      ]
     },
     "metadata": {},
     "output_type": "display_data"
    }
   ],
   "source": [
    "substring(\"shivanshu\", 0, 3)"
   ]
  },
  {
   "cell_type": "code",
   "execution_count": 46,
   "id": "d4988d4c",
   "metadata": {
    "tags": []
   },
   "outputs": [
    {
     "data": {
      "text/html": [
       "'shivasoooshis32,32'"
      ],
      "text/latex": [
       "'shivasoooshis32,32'"
      ],
      "text/markdown": [
       "'shivasoooshis32,32'"
      ],
      "text/plain": [
       "[1] \"shivasoooshis32,32\""
      ]
     },
     "metadata": {},
     "output_type": "display_data"
    }
   ],
   "source": [
    "gsub(\"O\", '32', \"shivasoooshisO,O\")"
   ]
  },
  {
   "cell_type": "markdown",
   "id": "62d97a35",
   "metadata": {},
   "source": [
    "R has many built in vectors too"
   ]
  },
  {
   "cell_type": "code",
   "execution_count": 47,
   "id": "84be0f2c",
   "metadata": {
    "tags": []
   },
   "outputs": [
    {
     "name": "stdout",
     "output_type": "stream",
     "text": [
      " [1] \"a\" \"b\" \"c\" \"d\" \"e\" \"f\" \"g\" \"h\" \"i\" \"j\" \"k\" \"l\" \"m\" \"n\" \"o\" \"p\" \"q\" \"r\" \"s\"\n",
      "[20] \"t\" \"u\" \"v\" \"w\" \"x\" \"y\" \"z\"\n"
     ]
    }
   ],
   "source": [
    "print(letters)"
   ]
  },
  {
   "cell_type": "code",
   "execution_count": 48,
   "id": "998b7744",
   "metadata": {},
   "outputs": [
    {
     "name": "stdout",
     "output_type": "stream",
     "text": [
      " [1] \"Jan\" \"Feb\" \"Mar\" \"Apr\" \"May\" \"Jun\" \"Jul\" \"Aug\" \"Sep\" \"Oct\" \"Nov\" \"Dec\"\n"
     ]
    }
   ],
   "source": [
    "print(month.abb)"
   ]
  },
  {
   "cell_type": "markdown",
   "id": "391cf2fe",
   "metadata": {},
   "source": [
    "### Logicals\n",
    "In R, a \"logical\" is a boolean"
   ]
  },
  {
   "cell_type": "code",
   "execution_count": 49,
   "id": "1a692084",
   "metadata": {},
   "outputs": [
    {
     "data": {
      "text/html": [
       "'logical'"
      ],
      "text/latex": [
       "'logical'"
      ],
      "text/markdown": [
       "'logical'"
      ],
      "text/plain": [
       "[1] \"logical\""
      ]
     },
     "metadata": {},
     "output_type": "display_data"
    },
    {
     "data": {
      "text/html": [
       "'logical'"
      ],
      "text/latex": [
       "'logical'"
      ],
      "text/markdown": [
       "'logical'"
      ],
      "text/plain": [
       "[1] \"logical\""
      ]
     },
     "metadata": {},
     "output_type": "display_data"
    }
   ],
   "source": [
    "class(TRUE) # \"logical\"\n",
    "class(FALSE)    # \"logical\""
   ]
  },
  {
   "cell_type": "code",
   "execution_count": 50,
   "id": "099f4202",
   "metadata": {},
   "outputs": [
    {
     "data": {
      "text/html": [
       "TRUE"
      ],
      "text/latex": [
       "TRUE"
      ],
      "text/markdown": [
       "TRUE"
      ],
      "text/plain": [
       "[1] TRUE"
      ]
     },
     "metadata": {},
     "output_type": "display_data"
    },
    {
     "data": {
      "text/html": [
       "FALSE"
      ],
      "text/latex": [
       "FALSE"
      ],
      "text/markdown": [
       "FALSE"
      ],
      "text/plain": [
       "[1] FALSE"
      ]
     },
     "metadata": {},
     "output_type": "display_data"
    },
    {
     "data": {
      "text/html": [
       "FALSE"
      ],
      "text/latex": [
       "FALSE"
      ],
      "text/markdown": [
       "FALSE"
      ],
      "text/plain": [
       "[1] FALSE"
      ]
     },
     "metadata": {},
     "output_type": "display_data"
    },
    {
     "data": {
      "text/html": [
       "TRUE"
      ],
      "text/latex": [
       "TRUE"
      ],
      "text/markdown": [
       "TRUE"
      ],
      "text/plain": [
       "[1] TRUE"
      ]
     },
     "metadata": {},
     "output_type": "display_data"
    }
   ],
   "source": [
    "# Their behavior is normal\n",
    "TRUE == TRUE    # TRUE\n",
    "TRUE == FALSE   # FALSE\n",
    "FALSE != FALSE  # FALSE\n",
    "FALSE != TRUE   # TRUE"
   ]
  },
  {
   "cell_type": "code",
   "execution_count": 51,
   "id": "ce7c026c",
   "metadata": {},
   "outputs": [
    {
     "data": {
      "text/html": [
       "'logical'"
      ],
      "text/latex": [
       "'logical'"
      ],
      "text/markdown": [
       "'logical'"
      ],
      "text/plain": [
       "[1] \"logical\""
      ]
     },
     "metadata": {},
     "output_type": "display_data"
    }
   ],
   "source": [
    "# Missing data (NA) is logical, too\n",
    "class(NA)   # \"logical\""
   ]
  },
  {
   "cell_type": "code",
   "execution_count": 52,
   "id": "5254825c",
   "metadata": {},
   "outputs": [
    {
     "data": {
      "text/html": [
       "TRUE"
      ],
      "text/latex": [
       "TRUE"
      ],
      "text/markdown": [
       "TRUE"
      ],
      "text/plain": [
       "[1] TRUE"
      ]
     },
     "metadata": {},
     "output_type": "display_data"
    },
    {
     "data": {
      "text/html": [
       "FALSE"
      ],
      "text/latex": [
       "FALSE"
      ],
      "text/markdown": [
       "FALSE"
      ],
      "text/plain": [
       "[1] FALSE"
      ]
     },
     "metadata": {},
     "output_type": "display_data"
    }
   ],
   "source": [
    "# Use | and & for logic operations.\n",
    "# OR\n",
    "TRUE | FALSE    # TRUE\n",
    "# AND\n",
    "TRUE & FALSE    # FALSE"
   ]
  },
  {
   "cell_type": "code",
   "execution_count": 53,
   "id": "671b1bb0",
   "metadata": {},
   "outputs": [
    {
     "data": {
      "text/html": [
       "<ol class=list-inline>\n",
       "\t<li>TRUE</li>\n",
       "\t<li>TRUE</li>\n",
       "\t<li>FALSE</li>\n",
       "</ol>\n"
      ],
      "text/latex": [
       "\\begin{enumerate*}\n",
       "\\item TRUE\n",
       "\\item TRUE\n",
       "\\item FALSE\n",
       "\\end{enumerate*}\n"
      ],
      "text/markdown": [
       "1. TRUE\n",
       "2. TRUE\n",
       "3. FALSE\n",
       "\n",
       "\n"
      ],
      "text/plain": [
       "[1]  TRUE  TRUE FALSE"
      ]
     },
     "metadata": {},
     "output_type": "display_data"
    },
    {
     "data": {
      "text/html": [
       "<ol class=list-inline>\n",
       "\t<li>FALSE</li>\n",
       "\t<li>FALSE</li>\n",
       "\t<li>TRUE</li>\n",
       "</ol>\n"
      ],
      "text/latex": [
       "\\begin{enumerate*}\n",
       "\\item FALSE\n",
       "\\item FALSE\n",
       "\\item TRUE\n",
       "\\end{enumerate*}\n"
      ],
      "text/markdown": [
       "1. FALSE\n",
       "2. FALSE\n",
       "3. TRUE\n",
       "\n",
       "\n"
      ],
      "text/plain": [
       "[1] FALSE FALSE  TRUE"
      ]
     },
     "metadata": {},
     "output_type": "display_data"
    }
   ],
   "source": [
    "# Applying | and & to vectors returns elementwise logic operations\n",
    "c(TRUE,FALSE,FALSE) | c(FALSE,TRUE,FALSE) # TRUE TRUE FALSE\n",
    "c(TRUE,FALSE,TRUE) & c(FALSE,TRUE,TRUE) # FALSE FALSE TRUE"
   ]
  },
  {
   "cell_type": "code",
   "execution_count": 54,
   "id": "57814bf0",
   "metadata": {},
   "outputs": [
    {
     "data": {
      "text/html": [
       "TRUE"
      ],
      "text/latex": [
       "TRUE"
      ],
      "text/markdown": [
       "TRUE"
      ],
      "text/plain": [
       "[1] TRUE"
      ]
     },
     "metadata": {},
     "output_type": "display_data"
    }
   ],
   "source": [
    "isTRUE(TRUE)"
   ]
  },
  {
   "cell_type": "code",
   "execution_count": 55,
   "id": "f239bbe8",
   "metadata": {},
   "outputs": [
    {
     "data": {
      "text/html": [
       "<ol class=list-inline>\n",
       "\t<li>FALSE</li>\n",
       "\t<li>FALSE</li>\n",
       "\t<li>FALSE</li>\n",
       "\t<li>FALSE</li>\n",
       "</ol>\n"
      ],
      "text/latex": [
       "\\begin{enumerate*}\n",
       "\\item FALSE\n",
       "\\item FALSE\n",
       "\\item FALSE\n",
       "\\item FALSE\n",
       "\\end{enumerate*}\n"
      ],
      "text/markdown": [
       "1. FALSE\n",
       "2. FALSE\n",
       "3. FALSE\n",
       "4. FALSE\n",
       "\n",
       "\n"
      ],
      "text/plain": [
       "[1] FALSE FALSE FALSE FALSE"
      ]
     },
     "metadata": {},
     "output_type": "display_data"
    }
   ],
   "source": [
    "c('Z', 'o', 'r', 'o') == \"Zoro\""
   ]
  },
  {
   "cell_type": "code",
   "execution_count": 56,
   "id": "d1849469",
   "metadata": {},
   "outputs": [
    {
     "data": {
      "text/html": [
       "<ol class=list-inline>\n",
       "\t<li>TRUE</li>\n",
       "\t<li>FALSE</li>\n",
       "\t<li>FALSE</li>\n",
       "\t<li>FALSE</li>\n",
       "</ol>\n"
      ],
      "text/latex": [
       "\\begin{enumerate*}\n",
       "\\item TRUE\n",
       "\\item FALSE\n",
       "\\item FALSE\n",
       "\\item FALSE\n",
       "\\end{enumerate*}\n"
      ],
      "text/markdown": [
       "1. TRUE\n",
       "2. FALSE\n",
       "3. FALSE\n",
       "4. FALSE\n",
       "\n",
       "\n"
      ],
      "text/plain": [
       "[1]  TRUE FALSE FALSE FALSE"
      ]
     },
     "metadata": {},
     "output_type": "display_data"
    }
   ],
   "source": [
    "c('Z', 'o', 'r', 'o') == 'Z'"
   ]
  },
  {
   "cell_type": "markdown",
   "id": "94cc2d83",
   "metadata": {},
   "source": [
    "### Factors\n",
    "The factor class is for categorical data\n",
    "Factors can be ordered (like childrens' grade levels) or unordered (like colors)"
   ]
  },
  {
   "cell_type": "code",
   "execution_count": 57,
   "id": "e47f9056",
   "metadata": {},
   "outputs": [
    {
     "data": {
      "text/html": [
       "<ol class=list-inline>\n",
       "\t<li>blue</li>\n",
       "\t<li>blue</li>\n",
       "\t<li>green</li>\n",
       "\t<li>&lt;NA&gt;</li>\n",
       "\t<li>blue</li>\n",
       "</ol>\n",
       "\n",
       "<details>\n",
       "\t<summary style=display:list-item;cursor:pointer>\n",
       "\t\t<strong>Levels</strong>:\n",
       "\t</summary>\n",
       "\t<ol class=list-inline>\n",
       "\t\t<li>'blue'</li>\n",
       "\t\t<li>'green'</li>\n",
       "\t</ol>\n",
       "</details>"
      ],
      "text/latex": [
       "\\begin{enumerate*}\n",
       "\\item blue\n",
       "\\item blue\n",
       "\\item green\n",
       "\\item <NA>\n",
       "\\item blue\n",
       "\\end{enumerate*}\n",
       "\n",
       "\\emph{Levels}: \\begin{enumerate*}\n",
       "\\item 'blue'\n",
       "\\item 'green'\n",
       "\\end{enumerate*}\n"
      ],
      "text/markdown": [
       "1. blue\n",
       "2. blue\n",
       "3. green\n",
       "4. &lt;NA&gt;\n",
       "5. blue\n",
       "\n",
       "\n",
       "\n",
       "**Levels**: 1. 'blue'\n",
       "2. 'green'\n",
       "\n",
       "\n"
      ],
      "text/plain": [
       "[1] blue  blue  green <NA>  blue \n",
       "Levels: blue green"
      ]
     },
     "metadata": {},
     "output_type": "display_data"
    }
   ],
   "source": [
    "factor(c(\"blue\", \"blue\", \"green\", NA, \"blue\"))"
   ]
  },
  {
   "cell_type": "markdown",
   "id": "5375d7af",
   "metadata": {},
   "source": [
    "Levels are the values that a categorical data can take"
   ]
  },
  {
   "cell_type": "code",
   "execution_count": 58,
   "id": "012cc610",
   "metadata": {},
   "outputs": [
    {
     "data": {
      "text/html": [
       "<ol class=list-inline>\n",
       "\t<li>'blue'</li>\n",
       "\t<li>'green'</li>\n",
       "\t<li>'red'</li>\n",
       "</ol>\n"
      ],
      "text/latex": [
       "\\begin{enumerate*}\n",
       "\\item 'blue'\n",
       "\\item 'green'\n",
       "\\item 'red'\n",
       "\\end{enumerate*}\n"
      ],
      "text/markdown": [
       "1. 'blue'\n",
       "2. 'green'\n",
       "3. 'red'\n",
       "\n",
       "\n"
      ],
      "text/plain": [
       "[1] \"blue\"  \"green\" \"red\"  "
      ]
     },
     "metadata": {},
     "output_type": "display_data"
    }
   ],
   "source": [
    "levels(factor(c(\"green\", \"red\", \"blue\", NA, \"blue\")))"
   ]
  },
  {
   "cell_type": "code",
   "execution_count": 59,
   "id": "01c2d4b7",
   "metadata": {},
   "outputs": [],
   "source": [
    "data(infert) # infertility after spontaneous induced abortion"
   ]
  },
  {
   "cell_type": "code",
   "execution_count": 60,
   "id": "567d3ccd",
   "metadata": {},
   "outputs": [
    {
     "data": {
      "text/plain": [
       "   education        age            parity         induced      \n",
       " 0-5yrs : 12   Min.   :21.00   Min.   :1.000   Min.   :0.0000  \n",
       " 6-11yrs:120   1st Qu.:28.00   1st Qu.:1.000   1st Qu.:0.0000  \n",
       " 12+ yrs:116   Median :31.00   Median :2.000   Median :0.0000  \n",
       "               Mean   :31.50   Mean   :2.093   Mean   :0.5726  \n",
       "               3rd Qu.:35.25   3rd Qu.:3.000   3rd Qu.:1.0000  \n",
       "               Max.   :44.00   Max.   :6.000   Max.   :2.0000  \n",
       "      case         spontaneous        stratum      pooled.stratum \n",
       " Min.   :0.0000   Min.   :0.0000   Min.   : 1.00   Min.   : 1.00  \n",
       " 1st Qu.:0.0000   1st Qu.:0.0000   1st Qu.:21.00   1st Qu.:19.00  \n",
       " Median :0.0000   Median :0.0000   Median :42.00   Median :36.00  \n",
       " Mean   :0.3347   Mean   :0.5766   Mean   :41.87   Mean   :33.58  \n",
       " 3rd Qu.:1.0000   3rd Qu.:1.0000   3rd Qu.:62.25   3rd Qu.:48.25  \n",
       " Max.   :1.0000   Max.   :2.0000   Max.   :83.00   Max.   :63.00  "
      ]
     },
     "metadata": {},
     "output_type": "display_data"
    }
   ],
   "source": [
    "summary(infert)"
   ]
  },
  {
   "cell_type": "code",
   "execution_count": 61,
   "id": "40d7084c",
   "metadata": {},
   "outputs": [
    {
     "data": {
      "text/html": [
       "<ol class=list-inline>\n",
       "\t<li>'0-5yrs'</li>\n",
       "\t<li>'6-11yrs'</li>\n",
       "\t<li>'12+ yrs'</li>\n",
       "</ol>\n"
      ],
      "text/latex": [
       "\\begin{enumerate*}\n",
       "\\item '0-5yrs'\n",
       "\\item '6-11yrs'\n",
       "\\item '12+ yrs'\n",
       "\\end{enumerate*}\n"
      ],
      "text/markdown": [
       "1. '0-5yrs'\n",
       "2. '6-11yrs'\n",
       "3. '12+ yrs'\n",
       "\n",
       "\n"
      ],
      "text/plain": [
       "[1] \"0-5yrs\"  \"6-11yrs\" \"12+ yrs\""
      ]
     },
     "metadata": {},
     "output_type": "display_data"
    }
   ],
   "source": [
    "levels(infert$education)"
   ]
  },
  {
   "cell_type": "markdown",
   "id": "7eb755e8",
   "metadata": {},
   "source": [
    "### NULL\n",
    "NULL is a wierd one, it is used to blank out the vector"
   ]
  },
  {
   "cell_type": "code",
   "execution_count": 62,
   "id": "fb5d01ae",
   "metadata": {},
   "outputs": [
    {
     "data": {
      "text/html": [
       "<ol class=list-inline>\n",
       "\t<li>1</li>\n",
       "\t<li>2</li>\n",
       "\t<li>23</li>\n",
       "\t<li>3</li>\n",
       "</ol>\n"
      ],
      "text/latex": [
       "\\begin{enumerate*}\n",
       "\\item 1\n",
       "\\item 2\n",
       "\\item 23\n",
       "\\item 3\n",
       "\\end{enumerate*}\n"
      ],
      "text/markdown": [
       "1. 1\n",
       "2. 2\n",
       "3. 23\n",
       "4. 3\n",
       "\n",
       "\n"
      ],
      "text/plain": [
       "[1]  1  2 23  3"
      ]
     },
     "metadata": {},
     "output_type": "display_data"
    }
   ],
   "source": [
    "shiv = c(1,2,23,3)\n",
    "shiv"
   ]
  },
  {
   "cell_type": "code",
   "execution_count": 63,
   "id": "15a22ca5",
   "metadata": {},
   "outputs": [
    {
     "data": {
      "text/plain": [
       "NULL"
      ]
     },
     "metadata": {},
     "output_type": "display_data"
    }
   ],
   "source": [
    "shiv <- NULL\n",
    "shiv"
   ]
  },
  {
   "cell_type": "markdown",
   "id": "78e52985",
   "metadata": {},
   "source": [
    "## Type Coercion\n",
    "when you force a value to take different type"
   ]
  },
  {
   "cell_type": "code",
   "execution_count": 64,
   "id": "5732e788",
   "metadata": {},
   "outputs": [
    {
     "data": {
      "text/html": [
       "<ol class=list-inline>\n",
       "\t<li>'6'</li>\n",
       "\t<li>'8'</li>\n",
       "</ol>\n"
      ],
      "text/latex": [
       "\\begin{enumerate*}\n",
       "\\item '6'\n",
       "\\item '8'\n",
       "\\end{enumerate*}\n"
      ],
      "text/markdown": [
       "1. '6'\n",
       "2. '8'\n",
       "\n",
       "\n"
      ],
      "text/plain": [
       "[1] \"6\" \"8\""
      ]
     },
     "metadata": {},
     "output_type": "display_data"
    }
   ],
   "source": [
    "as.character(c(6,8))"
   ]
  },
  {
   "cell_type": "code",
   "execution_count": 65,
   "id": "1f361c33",
   "metadata": {},
   "outputs": [
    {
     "data": {
      "text/html": [
       "<ol class=list-inline>\n",
       "\t<li>TRUE</li>\n",
       "\t<li>TRUE</li>\n",
       "\t<li>TRUE</li>\n",
       "\t<li>TRUE</li>\n",
       "</ol>\n"
      ],
      "text/latex": [
       "\\begin{enumerate*}\n",
       "\\item TRUE\n",
       "\\item TRUE\n",
       "\\item TRUE\n",
       "\\item TRUE\n",
       "\\end{enumerate*}\n"
      ],
      "text/markdown": [
       "1. TRUE\n",
       "2. TRUE\n",
       "3. TRUE\n",
       "4. TRUE\n",
       "\n",
       "\n"
      ],
      "text/plain": [
       "[1] TRUE TRUE TRUE TRUE"
      ]
     },
     "metadata": {},
     "output_type": "display_data"
    }
   ],
   "source": [
    "as.logical(c(1,2,3,4))"
   ]
  },
  {
   "cell_type": "markdown",
   "id": "4b0867ce",
   "metadata": {},
   "source": [
    "...........those were just the basic data types, there are many other too, like date, time series, etc."
   ]
  },
  {
   "cell_type": "markdown",
   "id": "405c2d5c",
   "metadata": {},
   "source": [
    "## Variable, Loops, if/else"
   ]
  },
  {
   "cell_type": "code",
   "execution_count": 66,
   "id": "65a9dcf3",
   "metadata": {},
   "outputs": [
    {
     "data": {
      "text/html": [
       "<ol class=list-inline>\n",
       "\t<li>'discoveries'</li>\n",
       "\t<li>'infert'</li>\n",
       "\t<li>'rivers'</li>\n",
       "\t<li>'shiv'</li>\n",
       "</ol>\n"
      ],
      "text/latex": [
       "\\begin{enumerate*}\n",
       "\\item 'discoveries'\n",
       "\\item 'infert'\n",
       "\\item 'rivers'\n",
       "\\item 'shiv'\n",
       "\\end{enumerate*}\n"
      ],
      "text/markdown": [
       "1. 'discoveries'\n",
       "2. 'infert'\n",
       "3. 'rivers'\n",
       "4. 'shiv'\n",
       "\n",
       "\n"
      ],
      "text/plain": [
       "[1] \"discoveries\" \"infert\"      \"rivers\"      \"shiv\"       "
      ]
     },
     "metadata": {},
     "output_type": "display_data"
    }
   ],
   "source": [
    "ls()"
   ]
  },
  {
   "cell_type": "code",
   "execution_count": 67,
   "id": "c9fde25b",
   "metadata": {},
   "outputs": [],
   "source": [
    "x = 5\n",
    "y <- \"1\"\n",
    "TRUE -> x\n",
    "\n",
    "## different way of assigning the variables"
   ]
  },
  {
   "cell_type": "markdown",
   "id": "2f513d57",
   "metadata": {},
   "source": [
    "### Loops"
   ]
  },
  {
   "cell_type": "code",
   "execution_count": 68,
   "id": "5d349a81",
   "metadata": {},
   "outputs": [
    {
     "name": "stdout",
     "output_type": "stream",
     "text": [
      "[1] 1\n",
      "[1] 2\n",
      "[1] 3\n",
      "[1] 4\n"
     ]
    }
   ],
   "source": [
    "for(i in 1:4){\n",
    "    print(i)\n",
    "}"
   ]
  },
  {
   "cell_type": "code",
   "execution_count": 69,
   "id": "4447dd51",
   "metadata": {},
   "outputs": [
    {
     "name": "stdout",
     "output_type": "stream",
     "text": [
      "10...9...8...7...6...5..."
     ]
    }
   ],
   "source": [
    "a <- 10\n",
    "while(a > 4){\n",
    "    cat(a, \"...\", sep=\"\")\n",
    "    a <- a- 1\n",
    "}"
   ]
  },
  {
   "cell_type": "markdown",
   "id": "23e2f662",
   "metadata": {},
   "source": [
    "### If else"
   ]
  },
  {
   "cell_type": "code",
   "execution_count": 70,
   "id": "6f46c1ad",
   "metadata": {},
   "outputs": [
    {
     "name": "stdout",
     "output_type": "stream",
     "text": [
      "[1] \"4 is greater than 3\"\n"
     ]
    }
   ],
   "source": [
    "if(4>3){\n",
    "    print(\"4 is greater than 3\")\n",
    "} else{\n",
    "    print(\" 4 is not greater than 3\")\n",
    "}"
   ]
  },
  {
   "cell_type": "markdown",
   "id": "d6604e40",
   "metadata": {},
   "source": [
    "### Functions"
   ]
  },
  {
   "cell_type": "code",
   "execution_count": 71,
   "id": "39f90049",
   "metadata": {},
   "outputs": [],
   "source": [
    "jiggle <- function(x){\n",
    "    x = x + rnorm(1, sd=.1) #add a bit of controlled noise\n",
    "    return(x)\n",
    "}"
   ]
  },
  {
   "cell_type": "code",
   "execution_count": 72,
   "id": "9523a6a5",
   "metadata": {},
   "outputs": [
    {
     "data": {
      "text/html": [
       "4.91587944723852"
      ],
      "text/latex": [
       "4.91587944723852"
      ],
      "text/markdown": [
       "4.91587944723852"
      ],
      "text/plain": [
       "[1] 4.915879"
      ]
     },
     "metadata": {},
     "output_type": "display_data"
    }
   ],
   "source": [
    "jiggle(5)"
   ]
  },
  {
   "cell_type": "markdown",
   "id": "7b883024",
   "metadata": {},
   "source": [
    "## Data structures: Vectors, matrices, data frames, and arrays"
   ]
  },
  {
   "cell_type": "markdown",
   "id": "f10323cd",
   "metadata": {},
   "source": [
    "### One Dimentional"
   ]
  },
  {
   "cell_type": "code",
   "execution_count": 73,
   "id": "745ef74b",
   "metadata": {},
   "outputs": [
    {
     "data": {
      "text/html": [
       "<ol class=list-inline>\n",
       "\t<li>8</li>\n",
       "\t<li>9</li>\n",
       "\t<li>10</li>\n",
       "\t<li>11</li>\n",
       "</ol>\n"
      ],
      "text/latex": [
       "\\begin{enumerate*}\n",
       "\\item 8\n",
       "\\item 9\n",
       "\\item 10\n",
       "\\item 11\n",
       "\\end{enumerate*}\n"
      ],
      "text/markdown": [
       "1. 8\n",
       "2. 9\n",
       "3. 10\n",
       "4. 11\n",
       "\n",
       "\n"
      ],
      "text/plain": [
       "[1]  8  9 10 11"
      ]
     },
     "metadata": {},
     "output_type": "display_data"
    }
   ],
   "source": [
    "# one dimensional\n",
    "vec <-c(8,9,10,11)\n",
    "vec"
   ]
  },
  {
   "cell_type": "code",
   "execution_count": 74,
   "id": "3303d8b4",
   "metadata": {},
   "outputs": [
    {
     "data": {
      "text/html": [
       "8"
      ],
      "text/latex": [
       "8"
      ],
      "text/markdown": [
       "8"
      ],
      "text/plain": [
       "[1] 8"
      ]
     },
     "metadata": {},
     "output_type": "display_data"
    },
    {
     "data": {
      "text/html": [
       "'r'"
      ],
      "text/latex": [
       "'r'"
      ],
      "text/markdown": [
       "'r'"
      ],
      "text/plain": [
       "[1] \"r\""
      ]
     },
     "metadata": {},
     "output_type": "display_data"
    },
    {
     "data": {
      "text/html": [
       "'M'"
      ],
      "text/latex": [
       "'M'"
      ],
      "text/markdown": [
       "'M'"
      ],
      "text/plain": [
       "[1] \"M\""
      ]
     },
     "metadata": {},
     "output_type": "display_data"
    },
    {
     "data": {
      "text/html": [
       "'September'"
      ],
      "text/latex": [
       "'September'"
      ],
      "text/markdown": [
       "'September'"
      ],
      "text/plain": [
       "[1] \"September\""
      ]
     },
     "metadata": {},
     "output_type": "display_data"
    }
   ],
   "source": [
    "vec[1]\n",
    "letters[18]\n",
    "LETTERS[13]\n",
    "month.name[9]"
   ]
  },
  {
   "cell_type": "code",
   "execution_count": 75,
   "id": "15dd140e",
   "metadata": {},
   "outputs": [
    {
     "data": {
      "text/html": [
       "7"
      ],
      "text/latex": [
       "7"
      ],
      "text/markdown": [
       "7"
      ],
      "text/plain": [
       "[1] 7"
      ]
     },
     "metadata": {},
     "output_type": "display_data"
    }
   ],
   "source": [
    "c(6, 8, 7, 5, 3, 0, 9)[3]"
   ]
  },
  {
   "cell_type": "code",
   "execution_count": 76,
   "id": "aded76ea",
   "metadata": {},
   "outputs": [
    {
     "data": {
      "text/html": [
       "<ol class=list-inline>\n",
       "\t<li>1</li>\n",
       "\t<li>3</li>\n",
       "</ol>\n"
      ],
      "text/latex": [
       "\\begin{enumerate*}\n",
       "\\item 1\n",
       "\\item 3\n",
       "\\end{enumerate*}\n"
      ],
      "text/markdown": [
       "1. 1\n",
       "2. 3\n",
       "\n",
       "\n"
      ],
      "text/plain": [
       "[1] 1 3"
      ]
     },
     "metadata": {},
     "output_type": "display_data"
    }
   ],
   "source": [
    "which(vec %% 2 == 0)"
   ]
  },
  {
   "cell_type": "code",
   "execution_count": 77,
   "id": "d3e41051",
   "metadata": {},
   "outputs": [
    {
     "data": {
      "text/html": [
       "8"
      ],
      "text/latex": [
       "8"
      ],
      "text/markdown": [
       "8"
      ],
      "text/plain": [
       "[1] 8"
      ]
     },
     "metadata": {},
     "output_type": "display_data"
    },
    {
     "data": {
      "text/html": [
       "<ol class=list-inline>\n",
       "\t<li>10</li>\n",
       "\t<li>11</li>\n",
       "</ol>\n"
      ],
      "text/latex": [
       "\\begin{enumerate*}\n",
       "\\item 10\n",
       "\\item 11\n",
       "\\end{enumerate*}\n"
      ],
      "text/markdown": [
       "1. 10\n",
       "2. 11\n",
       "\n",
       "\n"
      ],
      "text/plain": [
       "[1] 10 11"
      ]
     },
     "metadata": {},
     "output_type": "display_data"
    }
   ],
   "source": [
    "head(vec, 1)\n",
    "tail(vec, 2)"
   ]
  },
  {
   "cell_type": "code",
   "execution_count": 78,
   "id": "4b089e82",
   "metadata": {},
   "outputs": [
    {
     "data": {
      "text/html": [
       "TRUE"
      ],
      "text/latex": [
       "TRUE"
      ],
      "text/markdown": [
       "TRUE"
      ],
      "text/plain": [
       "[1] TRUE"
      ]
     },
     "metadata": {},
     "output_type": "display_data"
    }
   ],
   "source": [
    "any(vec == 10)"
   ]
  },
  {
   "cell_type": "code",
   "execution_count": 79,
   "id": "cf4e556c",
   "metadata": {},
   "outputs": [
    {
     "data": {
      "text/html": [
       "&lt;NA&gt;"
      ],
      "text/latex": [
       "<NA>"
      ],
      "text/markdown": [
       "&lt;NA&gt;"
      ],
      "text/plain": [
       "[1] NA"
      ]
     },
     "metadata": {},
     "output_type": "display_data"
    }
   ],
   "source": [
    "vec[6]"
   ]
  },
  {
   "cell_type": "code",
   "execution_count": 80,
   "id": "13dcf10a",
   "metadata": {},
   "outputs": [
    {
     "data": {
      "text/html": [
       "4"
      ],
      "text/latex": [
       "4"
      ],
      "text/markdown": [
       "4"
      ],
      "text/plain": [
       "[1] 4"
      ]
     },
     "metadata": {},
     "output_type": "display_data"
    }
   ],
   "source": [
    "length(vec)"
   ]
  },
  {
   "cell_type": "code",
   "execution_count": 81,
   "id": "cb351150",
   "metadata": {},
   "outputs": [
    {
     "data": {
      "text/html": [
       "<ol class=list-inline>\n",
       "\t<li>32</li>\n",
       "\t<li>36</li>\n",
       "\t<li>40</li>\n",
       "\t<li>44</li>\n",
       "</ol>\n"
      ],
      "text/latex": [
       "\\begin{enumerate*}\n",
       "\\item 32\n",
       "\\item 36\n",
       "\\item 40\n",
       "\\item 44\n",
       "\\end{enumerate*}\n"
      ],
      "text/markdown": [
       "1. 32\n",
       "2. 36\n",
       "3. 40\n",
       "4. 44\n",
       "\n",
       "\n"
      ],
      "text/plain": [
       "[1] 32 36 40 44"
      ]
     },
     "metadata": {},
     "output_type": "display_data"
    }
   ],
   "source": [
    "vec * 4"
   ]
  },
  {
   "cell_type": "code",
   "execution_count": 82,
   "id": "9434308a",
   "metadata": {},
   "outputs": [
    {
     "data": {
      "text/html": [
       "<ol class=list-inline>\n",
       "\t<li>45</li>\n",
       "\t<li>50</li>\n",
       "</ol>\n"
      ],
      "text/latex": [
       "\\begin{enumerate*}\n",
       "\\item 45\n",
       "\\item 50\n",
       "\\end{enumerate*}\n"
      ],
      "text/markdown": [
       "1. 45\n",
       "2. 50\n",
       "\n",
       "\n"
      ],
      "text/plain": [
       "[1] 45 50"
      ]
     },
     "metadata": {},
     "output_type": "display_data"
    }
   ],
   "source": [
    "vec[2:3] * 5"
   ]
  },
  {
   "cell_type": "code",
   "execution_count": 83,
   "id": "9b1e3d9c",
   "metadata": {},
   "outputs": [
    {
     "data": {
      "text/html": [
       "9.5"
      ],
      "text/latex": [
       "9.5"
      ],
      "text/markdown": [
       "9.5"
      ],
      "text/plain": [
       "[1] 9.5"
      ]
     },
     "metadata": {},
     "output_type": "display_data"
    }
   ],
   "source": [
    "mean(vec)"
   ]
  },
  {
   "cell_type": "code",
   "execution_count": 84,
   "id": "2c93e742",
   "metadata": {},
   "outputs": [
    {
     "data": {
      "text/html": [
       "1.66666666666667"
      ],
      "text/latex": [
       "1.66666666666667"
      ],
      "text/markdown": [
       "1.66666666666667"
      ],
      "text/plain": [
       "[1] 1.666667"
      ]
     },
     "metadata": {},
     "output_type": "display_data"
    }
   ],
   "source": [
    "var(vec)"
   ]
  },
  {
   "cell_type": "code",
   "execution_count": 85,
   "id": "a65eb612",
   "metadata": {},
   "outputs": [
    {
     "data": {
      "text/html": [
       "1.29099444873581"
      ],
      "text/latex": [
       "1.29099444873581"
      ],
      "text/markdown": [
       "1.29099444873581"
      ],
      "text/plain": [
       "[1] 1.290994"
      ]
     },
     "metadata": {},
     "output_type": "display_data"
    }
   ],
   "source": [
    "sd(vec)"
   ]
  },
  {
   "cell_type": "code",
   "execution_count": 86,
   "id": "083df0be",
   "metadata": {},
   "outputs": [
    {
     "data": {
      "text/html": [
       "11"
      ],
      "text/latex": [
       "11"
      ],
      "text/markdown": [
       "11"
      ],
      "text/plain": [
       "[1] 11"
      ]
     },
     "metadata": {},
     "output_type": "display_data"
    }
   ],
   "source": [
    "max(vec)"
   ]
  },
  {
   "cell_type": "code",
   "execution_count": 87,
   "id": "064031a1",
   "metadata": {},
   "outputs": [
    {
     "data": {
      "text/html": [
       "8"
      ],
      "text/latex": [
       "8"
      ],
      "text/markdown": [
       "8"
      ],
      "text/plain": [
       "[1] 8"
      ]
     },
     "metadata": {},
     "output_type": "display_data"
    }
   ],
   "source": [
    "min(vec)"
   ]
  },
  {
   "cell_type": "code",
   "execution_count": 88,
   "id": "a1c331f6",
   "metadata": {},
   "outputs": [
    {
     "data": {
      "text/html": [
       "38"
      ],
      "text/latex": [
       "38"
      ],
      "text/markdown": [
       "38"
      ],
      "text/plain": [
       "[1] 38"
      ]
     },
     "metadata": {},
     "output_type": "display_data"
    }
   ],
   "source": [
    "sum(vec)"
   ]
  },
  {
   "cell_type": "code",
   "execution_count": 89,
   "id": "6358b6c9",
   "metadata": {},
   "outputs": [
    {
     "data": {
      "text/html": [
       "FALSE"
      ],
      "text/latex": [
       "FALSE"
      ],
      "text/markdown": [
       "FALSE"
      ],
      "text/plain": [
       "[1] FALSE"
      ]
     },
     "metadata": {},
     "output_type": "display_data"
    }
   ],
   "source": [
    "any(vec[2:3] == 8)"
   ]
  },
  {
   "cell_type": "code",
   "execution_count": 90,
   "id": "5818400e",
   "metadata": {},
   "outputs": [
    {
     "data": {
      "text/html": [
       "<ol class=list-inline>\n",
       "\t<li>5</li>\n",
       "\t<li>6</li>\n",
       "\t<li>7</li>\n",
       "\t<li>8</li>\n",
       "\t<li>9</li>\n",
       "\t<li>10</li>\n",
       "\t<li>11</li>\n",
       "\t<li>12</li>\n",
       "\t<li>13</li>\n",
       "\t<li>14</li>\n",
       "\t<li>15</li>\n",
       "</ol>\n"
      ],
      "text/latex": [
       "\\begin{enumerate*}\n",
       "\\item 5\n",
       "\\item 6\n",
       "\\item 7\n",
       "\\item 8\n",
       "\\item 9\n",
       "\\item 10\n",
       "\\item 11\n",
       "\\item 12\n",
       "\\item 13\n",
       "\\item 14\n",
       "\\item 15\n",
       "\\end{enumerate*}\n"
      ],
      "text/markdown": [
       "1. 5\n",
       "2. 6\n",
       "3. 7\n",
       "4. 8\n",
       "5. 9\n",
       "6. 10\n",
       "7. 11\n",
       "8. 12\n",
       "9. 13\n",
       "10. 14\n",
       "11. 15\n",
       "\n",
       "\n"
      ],
      "text/plain": [
       " [1]  5  6  7  8  9 10 11 12 13 14 15"
      ]
     },
     "metadata": {},
     "output_type": "display_data"
    }
   ],
   "source": [
    "5:15"
   ]
  },
  {
   "cell_type": "code",
   "execution_count": 91,
   "id": "e6795815",
   "metadata": {},
   "outputs": [
    {
     "name": "stdout",
     "output_type": "stream",
     "text": [
      " [1]      0  10000  20000  30000  40000  50000  60000  70000  80000  90000\n",
      "[11] 100000 110000 120000 130000 140000 150000 160000 170000 180000 190000\n",
      "[21] 200000 210000 220000\n"
     ]
    }
   ],
   "source": [
    "print(seq(from=0, to=222232, by=10000))"
   ]
  },
  {
   "cell_type": "markdown",
   "id": "4c7327ea",
   "metadata": {},
   "source": [
    "### Two Dimesional "
   ]
  },
  {
   "cell_type": "code",
   "execution_count": 92,
   "id": "e81a05c6",
   "metadata": {},
   "outputs": [
    {
     "name": "stdout",
     "output_type": "stream",
     "text": [
      "     [,1] [,2]\n",
      "[1,]    1    4\n",
      "[2,]    2    5\n",
      "[3,]    3    6\n"
     ]
    }
   ],
   "source": [
    "mat <- matrix(nrow=3, ncol=2, c(1,2,3,4,5,6))\n",
    "print(mat)"
   ]
  },
  {
   "cell_type": "code",
   "execution_count": 93,
   "id": "dab988c5",
   "metadata": {},
   "outputs": [
    {
     "data": {
      "text/html": [
       "<ol class=list-inline>\n",
       "\t<li>1</li>\n",
       "\t<li>4</li>\n",
       "</ol>\n"
      ],
      "text/latex": [
       "\\begin{enumerate*}\n",
       "\\item 1\n",
       "\\item 4\n",
       "\\end{enumerate*}\n"
      ],
      "text/markdown": [
       "1. 1\n",
       "2. 4\n",
       "\n",
       "\n"
      ],
      "text/plain": [
       "[1] 1 4"
      ]
     },
     "metadata": {},
     "output_type": "display_data"
    }
   ],
   "source": [
    "mat[1,] # first row"
   ]
  },
  {
   "cell_type": "code",
   "execution_count": 94,
   "id": "3f31bf37",
   "metadata": {},
   "outputs": [
    {
     "data": {
      "text/html": [
       "<ol class=list-inline>\n",
       "\t<li>3</li>\n",
       "\t<li>6</li>\n",
       "\t<li>9</li>\n",
       "</ol>\n"
      ],
      "text/latex": [
       "\\begin{enumerate*}\n",
       "\\item 3\n",
       "\\item 6\n",
       "\\item 9\n",
       "\\end{enumerate*}\n"
      ],
      "text/markdown": [
       "1. 3\n",
       "2. 6\n",
       "3. 9\n",
       "\n",
       "\n"
      ],
      "text/plain": [
       "[1] 3 6 9"
      ]
     },
     "metadata": {},
     "output_type": "display_data"
    }
   ],
   "source": [
    "3 * mat[,1] # first col"
   ]
  },
  {
   "cell_type": "code",
   "execution_count": 95,
   "id": "1d49c7cb",
   "metadata": {},
   "outputs": [
    {
     "data": {
      "text/html": [
       "6"
      ],
      "text/latex": [
       "6"
      ],
      "text/markdown": [
       "6"
      ],
      "text/plain": [
       "[1] 6"
      ]
     },
     "metadata": {},
     "output_type": "display_data"
    }
   ],
   "source": [
    "mat[3,2]"
   ]
  },
  {
   "cell_type": "code",
   "execution_count": 96,
   "id": "f2fa024d",
   "metadata": {},
   "outputs": [
    {
     "data": {
      "text/html": [
       "<table>\n",
       "<tbody>\n",
       "\t<tr><td>1</td><td>2</td><td>3</td></tr>\n",
       "\t<tr><td>4</td><td>5</td><td>6</td></tr>\n",
       "</tbody>\n",
       "</table>\n"
      ],
      "text/latex": [
       "\\begin{tabular}{lll}\n",
       "\t 1 & 2 & 3\\\\\n",
       "\t 4 & 5 & 6\\\\\n",
       "\\end{tabular}\n"
      ],
      "text/markdown": [
       "\n",
       "| 1 | 2 | 3 |\n",
       "| 4 | 5 | 6 |\n",
       "\n"
      ],
      "text/plain": [
       "     [,1] [,2] [,3]\n",
       "[1,] 1    2    3   \n",
       "[2,] 4    5    6   "
      ]
     },
     "metadata": {},
     "output_type": "display_data"
    }
   ],
   "source": [
    "t(mat) # transpose of the matrix"
   ]
  },
  {
   "cell_type": "code",
   "execution_count": 97,
   "id": "2953e783",
   "metadata": {},
   "outputs": [
    {
     "data": {
      "text/html": [
       "<table>\n",
       "<tbody>\n",
       "\t<tr><td>17</td><td>22</td><td>27</td></tr>\n",
       "\t<tr><td>22</td><td>29</td><td>36</td></tr>\n",
       "\t<tr><td>27</td><td>36</td><td>45</td></tr>\n",
       "</tbody>\n",
       "</table>\n"
      ],
      "text/latex": [
       "\\begin{tabular}{lll}\n",
       "\t 17 & 22 & 27\\\\\n",
       "\t 22 & 29 & 36\\\\\n",
       "\t 27 & 36 & 45\\\\\n",
       "\\end{tabular}\n"
      ],
      "text/markdown": [
       "\n",
       "| 17 | 22 | 27 |\n",
       "| 22 | 29 | 36 |\n",
       "| 27 | 36 | 45 |\n",
       "\n"
      ],
      "text/plain": [
       "     [,1] [,2] [,3]\n",
       "[1,] 17   22   27  \n",
       "[2,] 22   29   36  \n",
       "[3,] 27   36   45  "
      ]
     },
     "metadata": {},
     "output_type": "display_data"
    }
   ],
   "source": [
    "mat %*% t(mat) # matrix multiplication "
   ]
  },
  {
   "cell_type": "code",
   "execution_count": 98,
   "id": "fedaca75",
   "metadata": {},
   "outputs": [
    {
     "name": "stdout",
     "output_type": "stream",
     "text": [
      "     [,1] [,2]  \n",
      "[1,] \"1\"  \"dog\" \n",
      "[2,] \"2\"  \"cat\" \n",
      "[3,] \"3\"  \"birs\"\n",
      "[4,] \"4\"  \"dpg\" \n"
     ]
    }
   ],
   "source": [
    "# cbind() sticks vector together column wise to make matrix\n",
    "mat2 <- cbind(1:4, c(\"dog\", \"cat\", \"birs\", \"dpg\"))\n",
    "print(mat2)"
   ]
  },
  {
   "cell_type": "code",
   "execution_count": 99,
   "id": "50ea545e",
   "metadata": {},
   "outputs": [
    {
     "data": {
      "text/html": [
       "'matrix'"
      ],
      "text/latex": [
       "'matrix'"
      ],
      "text/markdown": [
       "'matrix'"
      ],
      "text/plain": [
       "[1] \"matrix\""
      ]
     },
     "metadata": {},
     "output_type": "display_data"
    }
   ],
   "source": [
    "class(mat2)"
   ]
  },
  {
   "cell_type": "code",
   "execution_count": 100,
   "id": "1690578a",
   "metadata": {},
   "outputs": [
    {
     "data": {
      "text/html": [
       "<ol class=list-inline>\n",
       "\t<li>'character'</li>\n",
       "\t<li>'character'</li>\n",
       "</ol>\n"
      ],
      "text/latex": [
       "\\begin{enumerate*}\n",
       "\\item 'character'\n",
       "\\item 'character'\n",
       "\\end{enumerate*}\n"
      ],
      "text/markdown": [
       "1. 'character'\n",
       "2. 'character'\n",
       "\n",
       "\n"
      ],
      "text/plain": [
       "[1] \"character\" \"character\""
      ]
     },
     "metadata": {},
     "output_type": "display_data"
    }
   ],
   "source": [
    "c(class(mat2[,1]), class(mat2[,2])) # matrix must contain same class characters, so 1,2,3,4 are converted to same class in this case \n",
    "# characters"
   ]
  },
  {
   "cell_type": "markdown",
   "id": "13ebc02b",
   "metadata": {},
   "source": [
    "### Two Dimensional (Different classes)"
   ]
  },
  {
   "cell_type": "markdown",
   "id": "c9de0436",
   "metadata": {},
   "source": [
    "- For columns of different types, use a data frame\n",
    "- This data structure is so useful for statistical programming,\n",
    "- a version of it was added to Python in the package \"pandas\"."
   ]
  },
  {
   "cell_type": "code",
   "execution_count": 101,
   "id": "e4cf78da",
   "metadata": {},
   "outputs": [],
   "source": [
    "students <- data.frame(c(\"Cedric\", \"Fred\", \"George\", \"Cho\", \"Draco\", \"Ginny\"), \n",
    "                       c(3,2,2,1,0,-1),\n",
    "                       c(\"H\", \"G\", \"G\", \"R\", \"S\", \"G\"))\n",
    "# print(students)"
   ]
  },
  {
   "cell_type": "code",
   "execution_count": 102,
   "id": "6caf8af3",
   "metadata": {},
   "outputs": [
    {
     "data": {
      "text/html": [
       "'data.frame'"
      ],
      "text/latex": [
       "'data.frame'"
      ],
      "text/markdown": [
       "'data.frame'"
      ],
      "text/plain": [
       "[1] \"data.frame\""
      ]
     },
     "metadata": {},
     "output_type": "display_data"
    }
   ],
   "source": [
    "names(students) <- c(\"name\", \"year\", \"house\") # name of columns\n",
    "class(students) # \"data.frame\""
   ]
  },
  {
   "cell_type": "code",
   "execution_count": 103,
   "id": "7208cf37",
   "metadata": {},
   "outputs": [
    {
     "data": {
      "text/html": [
       "<table>\n",
       "<thead><tr><th scope=col>name</th><th scope=col>year</th><th scope=col>house</th></tr></thead>\n",
       "<tbody>\n",
       "\t<tr><td>Cedric</td><td> 3    </td><td>H     </td></tr>\n",
       "\t<tr><td>Fred  </td><td> 2    </td><td>G     </td></tr>\n",
       "\t<tr><td>George</td><td> 2    </td><td>G     </td></tr>\n",
       "\t<tr><td>Cho   </td><td> 1    </td><td>R     </td></tr>\n",
       "\t<tr><td>Draco </td><td> 0    </td><td>S     </td></tr>\n",
       "\t<tr><td>Ginny </td><td>-1    </td><td>G     </td></tr>\n",
       "</tbody>\n",
       "</table>\n"
      ],
      "text/latex": [
       "\\begin{tabular}{r|lll}\n",
       " name & year & house\\\\\n",
       "\\hline\n",
       "\t Cedric &  3     & H     \\\\\n",
       "\t Fred   &  2     & G     \\\\\n",
       "\t George &  2     & G     \\\\\n",
       "\t Cho    &  1     & R     \\\\\n",
       "\t Draco  &  0     & S     \\\\\n",
       "\t Ginny  & -1     & G     \\\\\n",
       "\\end{tabular}\n"
      ],
      "text/markdown": [
       "\n",
       "| name | year | house |\n",
       "|---|---|---|\n",
       "| Cedric |  3     | H      |\n",
       "| Fred   |  2     | G      |\n",
       "| George |  2     | G      |\n",
       "| Cho    |  1     | R      |\n",
       "| Draco  |  0     | S      |\n",
       "| Ginny  | -1     | G      |\n",
       "\n"
      ],
      "text/plain": [
       "  name   year house\n",
       "1 Cedric  3   H    \n",
       "2 Fred    2   G    \n",
       "3 George  2   G    \n",
       "4 Cho     1   R    \n",
       "5 Draco   0   S    \n",
       "6 Ginny  -1   G    "
      ]
     },
     "metadata": {},
     "output_type": "display_data"
    }
   ],
   "source": [
    "students"
   ]
  },
  {
   "cell_type": "code",
   "execution_count": 104,
   "id": "5efaf5c6",
   "metadata": {},
   "outputs": [
    {
     "data": {
      "text/html": [
       "'numeric'"
      ],
      "text/latex": [
       "'numeric'"
      ],
      "text/markdown": [
       "'numeric'"
      ],
      "text/plain": [
       "[1] \"numeric\""
      ]
     },
     "metadata": {},
     "output_type": "display_data"
    }
   ],
   "source": [
    "class(students$year)"
   ]
  },
  {
   "cell_type": "code",
   "execution_count": 105,
   "id": "54dda409",
   "metadata": {},
   "outputs": [
    {
     "data": {
      "text/html": [
       "'factor'"
      ],
      "text/latex": [
       "'factor'"
      ],
      "text/markdown": [
       "'factor'"
      ],
      "text/plain": [
       "[1] \"factor\""
      ]
     },
     "metadata": {},
     "output_type": "display_data"
    }
   ],
   "source": [
    "class(students[,3])"
   ]
  },
  {
   "cell_type": "code",
   "execution_count": 106,
   "id": "e42366a6",
   "metadata": {},
   "outputs": [
    {
     "data": {
      "text/html": [
       "6"
      ],
      "text/latex": [
       "6"
      ],
      "text/markdown": [
       "6"
      ],
      "text/plain": [
       "[1] 6"
      ]
     },
     "metadata": {},
     "output_type": "display_data"
    }
   ],
   "source": [
    "nrow(students)"
   ]
  },
  {
   "cell_type": "code",
   "execution_count": 107,
   "id": "e637da18",
   "metadata": {},
   "outputs": [
    {
     "data": {
      "text/html": [
       "3"
      ],
      "text/latex": [
       "3"
      ],
      "text/markdown": [
       "3"
      ],
      "text/plain": [
       "[1] 3"
      ]
     },
     "metadata": {},
     "output_type": "display_data"
    }
   ],
   "source": [
    "ncol(students)"
   ]
  },
  {
   "cell_type": "code",
   "execution_count": 108,
   "id": "18fa787f",
   "metadata": {},
   "outputs": [
    {
     "data": {
      "text/html": [
       "<ol class=list-inline>\n",
       "\t<li>6</li>\n",
       "\t<li>3</li>\n",
       "</ol>\n"
      ],
      "text/latex": [
       "\\begin{enumerate*}\n",
       "\\item 6\n",
       "\\item 3\n",
       "\\end{enumerate*}\n"
      ],
      "text/markdown": [
       "1. 6\n",
       "2. 3\n",
       "\n",
       "\n"
      ],
      "text/plain": [
       "[1] 6 3"
      ]
     },
     "metadata": {},
     "output_type": "display_data"
    }
   ],
   "source": [
    "dim(students)"
   ]
  },
  {
   "cell_type": "markdown",
   "id": "cd261c58",
   "metadata": {},
   "source": [
    "The `data.frame()` function converts character vectors to factor vectors by default; turn this off by setting `stringsAsFactors = FALSE` when you create the `data.frame`"
   ]
  },
  {
   "cell_type": "code",
   "execution_count": 109,
   "id": "57da710f",
   "metadata": {
    "scrolled": true,
    "tags": []
   },
   "outputs": [
    {
     "data": {
      "text/html": [
       "<ol class=list-inline>\n",
       "\t<li>3</li>\n",
       "\t<li>2</li>\n",
       "\t<li>2</li>\n",
       "\t<li>1</li>\n",
       "\t<li>0</li>\n",
       "\t<li>-1</li>\n",
       "</ol>\n"
      ],
      "text/latex": [
       "\\begin{enumerate*}\n",
       "\\item 3\n",
       "\\item 2\n",
       "\\item 2\n",
       "\\item 1\n",
       "\\item 0\n",
       "\\item -1\n",
       "\\end{enumerate*}\n"
      ],
      "text/markdown": [
       "1. 3\n",
       "2. 2\n",
       "3. 2\n",
       "4. 1\n",
       "5. 0\n",
       "6. -1\n",
       "\n",
       "\n"
      ],
      "text/plain": [
       "[1]  3  2  2  1  0 -1"
      ]
     },
     "metadata": {},
     "output_type": "display_data"
    },
    {
     "data": {
      "text/html": [
       "<ol class=list-inline>\n",
       "\t<li>3</li>\n",
       "\t<li>2</li>\n",
       "\t<li>2</li>\n",
       "\t<li>1</li>\n",
       "\t<li>0</li>\n",
       "\t<li>-1</li>\n",
       "</ol>\n"
      ],
      "text/latex": [
       "\\begin{enumerate*}\n",
       "\\item 3\n",
       "\\item 2\n",
       "\\item 2\n",
       "\\item 1\n",
       "\\item 0\n",
       "\\item -1\n",
       "\\end{enumerate*}\n"
      ],
      "text/markdown": [
       "1. 3\n",
       "2. 2\n",
       "3. 2\n",
       "4. 1\n",
       "5. 0\n",
       "6. -1\n",
       "\n",
       "\n"
      ],
      "text/plain": [
       "[1]  3  2  2  1  0 -1"
      ]
     },
     "metadata": {},
     "output_type": "display_data"
    },
    {
     "data": {
      "text/html": [
       "<ol class=list-inline>\n",
       "\t<li>3</li>\n",
       "\t<li>2</li>\n",
       "\t<li>2</li>\n",
       "\t<li>1</li>\n",
       "\t<li>0</li>\n",
       "\t<li>-1</li>\n",
       "</ol>\n"
      ],
      "text/latex": [
       "\\begin{enumerate*}\n",
       "\\item 3\n",
       "\\item 2\n",
       "\\item 2\n",
       "\\item 1\n",
       "\\item 0\n",
       "\\item -1\n",
       "\\end{enumerate*}\n"
      ],
      "text/markdown": [
       "1. 3\n",
       "2. 2\n",
       "3. 2\n",
       "4. 1\n",
       "5. 0\n",
       "6. -1\n",
       "\n",
       "\n"
      ],
      "text/plain": [
       "[1]  3  2  2  1  0 -1"
      ]
     },
     "metadata": {},
     "output_type": "display_data"
    }
   ],
   "source": [
    "# There are many twisty ways to subset data frames, all subtly unalike\n",
    "students$year   # 3  2  2  1  0 -1\n",
    "students[,2]    # 3  2  2  1  0 -1\n",
    "students[,\"year\"]   # 3  2  2  1  0 -1"
   ]
  },
  {
   "cell_type": "code",
   "execution_count": 110,
   "id": "5334c48d",
   "metadata": {},
   "outputs": [
    {
     "name": "stderr",
     "output_type": "stream",
     "text": [
      "Loading required package: data.table\n"
     ]
    },
    {
     "name": "stdout",
     "output_type": "stream",
     "text": [
      "     name year house\n",
      "1: Cedric    3     H\n",
      "2:   Fred    2     G\n",
      "3: George    2     G\n",
      "4:    Cho    1     R\n",
      "5:  Draco    0     S\n",
      "6:  Ginny   -1     G\n"
     ]
    }
   ],
   "source": [
    "# An augmented version of the data.frame structure is the data.table\n",
    "# If you're working with huge or panel data, or need to merge a few data\n",
    "# sets, data.table can be a good choice. Here's a whirlwind tour:\n",
    "# install.packages(\"data.table\") # download the package from CRAN\n",
    "require(data.table) # load it\n",
    "students <- as.data.table(students)\n",
    "print(students) # note the slightly different print-out"
   ]
  },
  {
   "cell_type": "code",
   "execution_count": 111,
   "id": "072fe218",
   "metadata": {},
   "outputs": [
    {
     "data": {
      "text/html": [
       "<table>\n",
       "<thead><tr><th scope=col>name</th><th scope=col>year</th><th scope=col>house</th></tr></thead>\n",
       "<tbody>\n",
       "\t<tr><td>Ginny</td><td>-1   </td><td>G    </td></tr>\n",
       "</tbody>\n",
       "</table>\n"
      ],
      "text/latex": [
       "\\begin{tabular}{r|lll}\n",
       " name & year & house\\\\\n",
       "\\hline\n",
       "\t Ginny & -1    & G    \\\\\n",
       "\\end{tabular}\n"
      ],
      "text/markdown": [
       "\n",
       "| name | year | house |\n",
       "|---|---|---|\n",
       "| Ginny | -1    | G     |\n",
       "\n"
      ],
      "text/plain": [
       "  name  year house\n",
       "1 Ginny -1   G    "
      ]
     },
     "metadata": {},
     "output_type": "display_data"
    }
   ],
   "source": [
    "students[name==\"Ginny\"] # get rows with name == \"Ginny\""
   ]
  },
  {
   "cell_type": "code",
   "execution_count": 112,
   "id": "0d9a37ec",
   "metadata": {},
   "outputs": [
    {
     "data": {
      "text/html": [
       "<table>\n",
       "<thead><tr><th scope=col>name</th><th scope=col>year</th><th scope=col>house</th></tr></thead>\n",
       "<tbody>\n",
       "\t<tr><td>Fred  </td><td>2     </td><td>G     </td></tr>\n",
       "\t<tr><td>George</td><td>2     </td><td>G     </td></tr>\n",
       "</tbody>\n",
       "</table>\n"
      ],
      "text/latex": [
       "\\begin{tabular}{r|lll}\n",
       " name & year & house\\\\\n",
       "\\hline\n",
       "\t Fred   & 2      & G     \\\\\n",
       "\t George & 2      & G     \\\\\n",
       "\\end{tabular}\n"
      ],
      "text/markdown": [
       "\n",
       "| name | year | house |\n",
       "|---|---|---|\n",
       "| Fred   | 2      | G      |\n",
       "| George | 2      | G      |\n",
       "\n"
      ],
      "text/plain": [
       "  name   year house\n",
       "1 Fred   2    G    \n",
       "2 George 2    G    "
      ]
     },
     "metadata": {},
     "output_type": "display_data"
    }
   ],
   "source": [
    "students[year==2] # get rows with year == 2"
   ]
  },
  {
   "cell_type": "code",
   "execution_count": 113,
   "id": "14bd60c6",
   "metadata": {},
   "outputs": [],
   "source": [
    "founders <- data.table(house=c(\"G\",\"H\",\"R\",\"S\"),\n",
    "                       founder=c(\"Godric\",\"Helga\",\"Rowena\",\"Salazar\"))"
   ]
  },
  {
   "cell_type": "code",
   "execution_count": 114,
   "id": "8f0b9adc",
   "metadata": {},
   "outputs": [
    {
     "data": {
      "text/html": [
       "<table>\n",
       "<thead><tr><th scope=col>house</th><th scope=col>founder</th></tr></thead>\n",
       "<tbody>\n",
       "\t<tr><td>G      </td><td>Godric </td></tr>\n",
       "\t<tr><td>H      </td><td>Helga  </td></tr>\n",
       "\t<tr><td>R      </td><td>Rowena </td></tr>\n",
       "\t<tr><td>S      </td><td>Salazar</td></tr>\n",
       "</tbody>\n",
       "</table>\n"
      ],
      "text/latex": [
       "\\begin{tabular}{r|ll}\n",
       " house & founder\\\\\n",
       "\\hline\n",
       "\t G       & Godric \\\\\n",
       "\t H       & Helga  \\\\\n",
       "\t R       & Rowena \\\\\n",
       "\t S       & Salazar\\\\\n",
       "\\end{tabular}\n"
      ],
      "text/markdown": [
       "\n",
       "| house | founder |\n",
       "|---|---|\n",
       "| G       | Godric  |\n",
       "| H       | Helga   |\n",
       "| R       | Rowena  |\n",
       "| S       | Salazar |\n",
       "\n"
      ],
      "text/plain": [
       "  house founder\n",
       "1 G     Godric \n",
       "2 H     Helga  \n",
       "3 R     Rowena \n",
       "4 S     Salazar"
      ]
     },
     "metadata": {},
     "output_type": "display_data"
    }
   ],
   "source": [
    "founders"
   ]
  },
  {
   "cell_type": "code",
   "execution_count": 115,
   "id": "03e32b0f",
   "metadata": {},
   "outputs": [],
   "source": [
    "setkey(students, house)\n",
    "setkey(founders, house)\n",
    "students <- founders[students] # merge the two data sets by matching \"house\""
   ]
  },
  {
   "cell_type": "code",
   "execution_count": 116,
   "id": "7e7295bb",
   "metadata": {},
   "outputs": [
    {
     "data": {
      "text/html": [
       "<table>\n",
       "<thead><tr><th scope=col>studentName</th><th scope=col>year</th><th scope=col>house</th><th scope=col>houseFounderName</th></tr></thead>\n",
       "<tbody>\n",
       "\t<tr><td>Fred   </td><td> 2     </td><td>G      </td><td>Godric </td></tr>\n",
       "\t<tr><td>George </td><td> 2     </td><td>G      </td><td>Godric </td></tr>\n",
       "\t<tr><td>Ginny  </td><td>-1     </td><td>G      </td><td>Godric </td></tr>\n",
       "\t<tr><td>Cedric </td><td> 3     </td><td>H      </td><td>Helga  </td></tr>\n",
       "\t<tr><td>Cho    </td><td> 1     </td><td>R      </td><td>Rowena </td></tr>\n",
       "\t<tr><td>Draco  </td><td> 0     </td><td>S      </td><td>Salazar</td></tr>\n",
       "</tbody>\n",
       "</table>\n"
      ],
      "text/latex": [
       "\\begin{tabular}{r|llll}\n",
       " studentName & year & house & houseFounderName\\\\\n",
       "\\hline\n",
       "\t Fred    &  2      & G       & Godric \\\\\n",
       "\t George  &  2      & G       & Godric \\\\\n",
       "\t Ginny   & -1      & G       & Godric \\\\\n",
       "\t Cedric  &  3      & H       & Helga  \\\\\n",
       "\t Cho     &  1      & R       & Rowena \\\\\n",
       "\t Draco   &  0      & S       & Salazar\\\\\n",
       "\\end{tabular}\n"
      ],
      "text/markdown": [
       "\n",
       "| studentName | year | house | houseFounderName |\n",
       "|---|---|---|---|\n",
       "| Fred    |  2      | G       | Godric  |\n",
       "| George  |  2      | G       | Godric  |\n",
       "| Ginny   | -1      | G       | Godric  |\n",
       "| Cedric  |  3      | H       | Helga   |\n",
       "| Cho     |  1      | R       | Rowena  |\n",
       "| Draco   |  0      | S       | Salazar |\n",
       "\n"
      ],
      "text/plain": [
       "  studentName year house houseFounderName\n",
       "1 Fred         2   G     Godric          \n",
       "2 George       2   G     Godric          \n",
       "3 Ginny       -1   G     Godric          \n",
       "4 Cedric       3   H     Helga           \n",
       "5 Cho          1   R     Rowena          \n",
       "6 Draco        0   S     Salazar         "
      ]
     },
     "metadata": {},
     "output_type": "display_data"
    }
   ],
   "source": [
    "setnames(students, c(\"house\",\"houseFounderName\",\"studentName\",\"year\"))\n",
    "students[,order(c(\"name\",\"year\",\"house\",\"houseFounderName\")), with=F]"
   ]
  },
  {
   "cell_type": "code",
   "execution_count": 117,
   "id": "4a17b0e1",
   "metadata": {},
   "outputs": [
    {
     "data": {
      "text/html": [
       "<table>\n",
       "<thead><tr><th scope=col>house</th><th scope=col>V1</th></tr></thead>\n",
       "<tbody>\n",
       "\t<tr><td>G</td><td>3</td></tr>\n",
       "\t<tr><td>H</td><td>3</td></tr>\n",
       "\t<tr><td>R</td><td>1</td></tr>\n",
       "\t<tr><td>S</td><td>0</td></tr>\n",
       "</tbody>\n",
       "</table>\n"
      ],
      "text/latex": [
       "\\begin{tabular}{r|ll}\n",
       " house & V1\\\\\n",
       "\\hline\n",
       "\t G & 3\\\\\n",
       "\t H & 3\\\\\n",
       "\t R & 1\\\\\n",
       "\t S & 0\\\\\n",
       "\\end{tabular}\n"
      ],
      "text/markdown": [
       "\n",
       "| house | V1 |\n",
       "|---|---|\n",
       "| G | 3 |\n",
       "| H | 3 |\n",
       "| R | 1 |\n",
       "| S | 0 |\n",
       "\n"
      ],
      "text/plain": [
       "  house V1\n",
       "1 G     3 \n",
       "2 H     3 \n",
       "3 R     1 \n",
       "4 S     0 "
      ]
     },
     "metadata": {},
     "output_type": "display_data"
    }
   ],
   "source": [
    "# data.table makes summary tables easy\n",
    "students[,sum(year),by=house]"
   ]
  },
  {
   "cell_type": "code",
   "execution_count": 118,
   "id": "9f492d26",
   "metadata": {},
   "outputs": [
    {
     "data": {
      "text/html": [
       "<table>\n",
       "<thead><tr><th scope=col>house</th><th scope=col>studentName</th><th scope=col>year</th></tr></thead>\n",
       "<tbody>\n",
       "\t<tr><td>G     </td><td>Fred  </td><td> 2    </td></tr>\n",
       "\t<tr><td>G     </td><td>George</td><td> 2    </td></tr>\n",
       "\t<tr><td>G     </td><td>Ginny </td><td>-1    </td></tr>\n",
       "\t<tr><td>H     </td><td>Cedric</td><td> 3    </td></tr>\n",
       "\t<tr><td>R     </td><td>Cho   </td><td> 1    </td></tr>\n",
       "\t<tr><td>S     </td><td>Draco </td><td> 0    </td></tr>\n",
       "</tbody>\n",
       "</table>\n"
      ],
      "text/latex": [
       "\\begin{tabular}{r|lll}\n",
       " house & studentName & year\\\\\n",
       "\\hline\n",
       "\t G      & Fred   &  2    \\\\\n",
       "\t G      & George &  2    \\\\\n",
       "\t G      & Ginny  & -1    \\\\\n",
       "\t H      & Cedric &  3    \\\\\n",
       "\t R      & Cho    &  1    \\\\\n",
       "\t S      & Draco  &  0    \\\\\n",
       "\\end{tabular}\n"
      ],
      "text/markdown": [
       "\n",
       "| house | studentName | year |\n",
       "|---|---|---|\n",
       "| G      | Fred   |  2     |\n",
       "| G      | George |  2     |\n",
       "| G      | Ginny  | -1     |\n",
       "| H      | Cedric |  3     |\n",
       "| R      | Cho    |  1     |\n",
       "| S      | Draco  |  0     |\n",
       "\n"
      ],
      "text/plain": [
       "  house studentName year\n",
       "1 G     Fred         2  \n",
       "2 G     George       2  \n",
       "3 G     Ginny       -1  \n",
       "4 H     Cedric       3  \n",
       "5 R     Cho          1  \n",
       "6 S     Draco        0  "
      ]
     },
     "metadata": {},
     "output_type": "display_data"
    }
   ],
   "source": [
    "# To drop a column from a data.frame or data.table,\n",
    "# assign it the NULL value\n",
    "students$houseFounderName <- NULL\n",
    "students"
   ]
  },
  {
   "cell_type": "code",
   "execution_count": 119,
   "id": "d09f1fa7",
   "metadata": {},
   "outputs": [
    {
     "data": {
      "text/html": [
       "<table>\n",
       "<thead><tr><th scope=col>house</th><th scope=col>studentName</th><th scope=col>year</th></tr></thead>\n",
       "<tbody>\n",
       "\t<tr><td>G     </td><td>Fred  </td><td> 2    </td></tr>\n",
       "\t<tr><td>G     </td><td>George</td><td> 2    </td></tr>\n",
       "\t<tr><td>G     </td><td>Ginny </td><td>-1    </td></tr>\n",
       "\t<tr><td>H     </td><td>Cedric</td><td> 3    </td></tr>\n",
       "\t<tr><td>R     </td><td>Cho   </td><td> 1    </td></tr>\n",
       "</tbody>\n",
       "</table>\n"
      ],
      "text/latex": [
       "\\begin{tabular}{r|lll}\n",
       " house & studentName & year\\\\\n",
       "\\hline\n",
       "\t G      & Fred   &  2    \\\\\n",
       "\t G      & George &  2    \\\\\n",
       "\t G      & Ginny  & -1    \\\\\n",
       "\t H      & Cedric &  3    \\\\\n",
       "\t R      & Cho    &  1    \\\\\n",
       "\\end{tabular}\n"
      ],
      "text/markdown": [
       "\n",
       "| house | studentName | year |\n",
       "|---|---|---|\n",
       "| G      | Fred   |  2     |\n",
       "| G      | George |  2     |\n",
       "| G      | Ginny  | -1     |\n",
       "| H      | Cedric |  3     |\n",
       "| R      | Cho    |  1     |\n",
       "\n"
      ],
      "text/plain": [
       "  house studentName year\n",
       "1 G     Fred         2  \n",
       "2 G     George       2  \n",
       "3 G     Ginny       -1  \n",
       "4 H     Cedric       3  \n",
       "5 R     Cho          1  "
      ]
     },
     "metadata": {},
     "output_type": "display_data"
    }
   ],
   "source": [
    "# Drop a row by subsetting\n",
    "# Using data.table:\n",
    "students[studentName != \"Draco\"]"
   ]
  },
  {
   "cell_type": "code",
   "execution_count": 120,
   "id": "6d3ab6cc",
   "metadata": {},
   "outputs": [
    {
     "data": {
      "text/html": [
       "<table>\n",
       "<thead><tr><th></th><th scope=col>house</th><th scope=col>studentName</th><th scope=col>year</th></tr></thead>\n",
       "<tbody>\n",
       "\t<tr><th scope=row>4</th><td>H     </td><td>Cedric</td><td>3     </td></tr>\n",
       "\t<tr><th scope=row>5</th><td>R     </td><td>Cho   </td><td>1     </td></tr>\n",
       "\t<tr><th scope=row>6</th><td>S     </td><td>Draco </td><td>0     </td></tr>\n",
       "</tbody>\n",
       "</table>\n"
      ],
      "text/latex": [
       "\\begin{tabular}{r|lll}\n",
       "  & house & studentName & year\\\\\n",
       "\\hline\n",
       "\t4 & H      & Cedric & 3     \\\\\n",
       "\t5 & R      & Cho    & 1     \\\\\n",
       "\t6 & S      & Draco  & 0     \\\\\n",
       "\\end{tabular}\n"
      ],
      "text/markdown": [
       "\n",
       "| <!--/--> | house | studentName | year |\n",
       "|---|---|---|---|\n",
       "| 4 | H      | Cedric | 3      |\n",
       "| 5 | R      | Cho    | 1      |\n",
       "| 6 | S      | Draco  | 0      |\n",
       "\n"
      ],
      "text/plain": [
       "  house studentName year\n",
       "4 H     Cedric      3   \n",
       "5 R     Cho         1   \n",
       "6 S     Draco       0   "
      ]
     },
     "metadata": {},
     "output_type": "display_data"
    }
   ],
   "source": [
    "# Using data.frame:\n",
    "students <- as.data.frame(students)\n",
    "students[students$house != \"G\",]"
   ]
  },
  {
   "cell_type": "markdown",
   "id": "28803e24",
   "metadata": {},
   "source": [
    "### Multi Dimetional (all elements of one type)"
   ]
  },
  {
   "cell_type": "code",
   "execution_count": 121,
   "id": "06969099",
   "metadata": {},
   "outputs": [
    {
     "data": {
      "text/html": [
       "<table>\n",
       "<tbody>\n",
       "\t<tr><td>1</td><td>4</td><td>8</td><td>3</td></tr>\n",
       "\t<tr><td>2</td><td>5</td><td>9</td><td>6</td></tr>\n",
       "</tbody>\n",
       "</table>\n"
      ],
      "text/latex": [
       "\\begin{tabular}{llll}\n",
       "\t 1 & 4 & 8 & 3\\\\\n",
       "\t 2 & 5 & 9 & 6\\\\\n",
       "\\end{tabular}\n"
      ],
      "text/markdown": [
       "\n",
       "| 1 | 4 | 8 | 3 |\n",
       "| 2 | 5 | 9 | 6 |\n",
       "\n"
      ],
      "text/plain": [
       "     [,1] [,2] [,3] [,4]\n",
       "[1,] 1    4    8    3   \n",
       "[2,] 2    5    9    6   "
      ]
     },
     "metadata": {},
     "output_type": "display_data"
    }
   ],
   "source": [
    "array(c(c(1,2,4,5),c(8,9,3,6)), dim=c(2,4))"
   ]
  },
  {
   "cell_type": "code",
   "execution_count": 122,
   "id": "7152aa49",
   "metadata": {},
   "outputs": [
    {
     "name": "stdout",
     "output_type": "stream",
     "text": [
      ", , 1\n",
      "\n",
      "     [,1] [,2]\n",
      "[1,]    2    8\n",
      "[2,]  300    9\n",
      "[3,]    4    0\n",
      "\n",
      ", , 2\n",
      "\n",
      "     [,1] [,2]\n",
      "[1,]    5   66\n",
      "[2,]   60    7\n",
      "[3,]    0  847\n",
      "\n"
     ]
    }
   ],
   "source": [
    "print(array(c(c(c(2,300,4),c(8,9,0)),c(c(5,60,0),c(66,7,847))), dim=c(3,2,2)))"
   ]
  },
  {
   "cell_type": "markdown",
   "id": "d12f3952",
   "metadata": {},
   "source": [
    "### Lists \n",
    "(multi-dimentional, possibly raggedm of different types)"
   ]
  },
  {
   "cell_type": "code",
   "execution_count": 123,
   "id": "4453ef75",
   "metadata": {},
   "outputs": [
    {
     "name": "stdout",
     "output_type": "stream",
     "text": [
      "$time\n",
      " [1]  1  2  3  4  5  6  7  8  9 10 11 12 13 14 15 16 17 18 19 20 21 22 23 24 25\n",
      "[26] 26 27 28 29 30 31 32 33 34 35 36 37 38 39 40\n",
      "\n",
      "$price\n",
      " [1] -1.369081  2.487799  3.718303  7.525474  1.904855 10.001106  6.301230\n",
      " [8]  4.884156  7.311723  5.126145  8.241101  5.634258  3.400687  2.274394\n",
      "[15]  5.878672  3.740723 12.062776 16.954486  1.704073  7.735502 11.783038\n",
      "[22]  9.320494 13.562703 10.313570  9.391696 14.731288 20.588314 10.126012\n",
      "[29] 14.272741 14.512195 17.659405  7.494075 12.442357 24.590503 17.125074\n",
      "[36] 13.479024 21.376373 16.995312 17.562380 16.498279\n",
      "\n"
     ]
    }
   ],
   "source": [
    "# Finally, R has lists (of vectors)\n",
    "list1 <- list(time = 1:40)\n",
    "list1$price = c(rnorm(40,.5*list1$time,4)) # random\n",
    "print(list1)"
   ]
  },
  {
   "cell_type": "code",
   "execution_count": 124,
   "id": "a0917173",
   "metadata": {},
   "outputs": [
    {
     "name": "stdout",
     "output_type": "stream",
     "text": [
      " [1]  1  2  3  4  5  6  7  8  9 10 11 12 13 14 15 16 17 18 19 20 21 22 23 24 25\n",
      "[26] 26 27 28 29 30 31 32 33 34 35 36 37 38 39 40\n",
      " [1]  1  2  3  4  5  6  7  8  9 10 11 12 13 14 15 16 17 18 19 20 21 22 23 24 25\n",
      "[26] 26 27 28 29 30 31 32 33 34 35 36 37 38 39 40\n",
      " [1]  1  2  3  4  5  6  7  8  9 10 11 12 13 14 15 16 17 18 19 20 21 22 23 24 25\n",
      "[26] 26 27 28 29 30 31 32 33 34 35 36 37 38 39 40\n"
     ]
    }
   ],
   "source": [
    "# You can get items in the list like so\n",
    "print(list1$time) # one way\n",
    "print(list1[[\"time\"]]) # another way\n",
    "print(list1[[1]]) # yet another way"
   ]
  },
  {
   "cell_type": "code",
   "execution_count": 125,
   "id": "b7e7fae5",
   "metadata": {},
   "outputs": [
    {
     "data": {
      "text/html": [
       "7.52547386447813"
      ],
      "text/latex": [
       "7.52547386447813"
      ],
      "text/markdown": [
       "7.52547386447813"
      ],
      "text/plain": [
       "[1] 7.525474"
      ]
     },
     "metadata": {},
     "output_type": "display_data"
    }
   ],
   "source": [
    "# You can subset list items like any other vector\n",
    "list1$price[4]"
   ]
  },
  {
   "cell_type": "markdown",
   "id": "4e76f584",
   "metadata": {},
   "source": [
    "## The apply() family of functions"
   ]
  },
  {
   "cell_type": "code",
   "execution_count": 126,
   "id": "ccfabb70",
   "metadata": {},
   "outputs": [
    {
     "data": {
      "text/html": [
       "<table>\n",
       "<tbody>\n",
       "\t<tr><td>1</td><td>4</td></tr>\n",
       "\t<tr><td>2</td><td>5</td></tr>\n",
       "\t<tr><td>3</td><td>6</td></tr>\n",
       "</tbody>\n",
       "</table>\n"
      ],
      "text/latex": [
       "\\begin{tabular}{ll}\n",
       "\t 1 & 4\\\\\n",
       "\t 2 & 5\\\\\n",
       "\t 3 & 6\\\\\n",
       "\\end{tabular}\n"
      ],
      "text/markdown": [
       "\n",
       "| 1 | 4 |\n",
       "| 2 | 5 |\n",
       "| 3 | 6 |\n",
       "\n"
      ],
      "text/plain": [
       "     [,1] [,2]\n",
       "[1,] 1    4   \n",
       "[2,] 2    5   \n",
       "[3,] 3    6   "
      ]
     },
     "metadata": {},
     "output_type": "display_data"
    }
   ],
   "source": [
    "mat"
   ]
  },
  {
   "cell_type": "code",
   "execution_count": 127,
   "id": "e570cf7c",
   "metadata": {},
   "outputs": [
    {
     "data": {
      "text/html": [
       "<table>\n",
       "<tbody>\n",
       "\t<tr><td>0.965255</td><td>3.771351</td></tr>\n",
       "\t<tr><td>1.965255</td><td>4.771351</td></tr>\n",
       "\t<tr><td>2.965255</td><td>5.771351</td></tr>\n",
       "</tbody>\n",
       "</table>\n"
      ],
      "text/latex": [
       "\\begin{tabular}{ll}\n",
       "\t 0.965255 & 3.771351\\\\\n",
       "\t 1.965255 & 4.771351\\\\\n",
       "\t 2.965255 & 5.771351\\\\\n",
       "\\end{tabular}\n"
      ],
      "text/markdown": [
       "\n",
       "| 0.965255 | 3.771351 |\n",
       "| 1.965255 | 4.771351 |\n",
       "| 2.965255 | 5.771351 |\n",
       "\n"
      ],
      "text/plain": [
       "     [,1]     [,2]    \n",
       "[1,] 0.965255 3.771351\n",
       "[2,] 1.965255 4.771351\n",
       "[3,] 2.965255 5.771351"
      ]
     },
     "metadata": {},
     "output_type": "display_data"
    }
   ],
   "source": [
    "# Use apply(X, MARGIN, FUN) to apply function FUN to a matrix X\n",
    "# over rows (MAR = 1) or columns (MAR = 2)\n",
    "# That is, R does FUN to each row (or column) of X, much faster than a\n",
    "# for or while loop would do\n",
    "apply(mat, MAR = 2, jiggle)"
   ]
  },
  {
   "cell_type": "code",
   "execution_count": 128,
   "id": "db0e0169",
   "metadata": {},
   "outputs": [
    {
     "name": "stderr",
     "output_type": "stream",
     "text": [
      "Loading required package: plyr\n"
     ]
    }
   ],
   "source": [
    "# Don't feel too intimidated; everyone agrees they are rather confusing\n",
    "\n",
    "# The plyr package aims to replace (and improve upon!) the *apply() family.\n",
    "# install.packages(\"plyr\")\n",
    "require(plyr)\n",
    "# ?plyr"
   ]
  },
  {
   "cell_type": "markdown",
   "id": "ab0925b7",
   "metadata": {},
   "source": [
    "## Loading data"
   ]
  },
  {
   "cell_type": "code",
   "execution_count": 129,
   "id": "f8900eeb",
   "metadata": {},
   "outputs": [],
   "source": [
    "# \"pets.csv\" is a file on the internet\n",
    "# (but it could just as easily be a file on your own computer)\n",
    "# require(RCurl)\n",
    "# pets <- read.csv (textConnection(getURL(\"https://learnxinyminutes.com/docs/pets.csv\")))\n",
    "pets <- read.csv(\"pets.csv\")"
   ]
  },
  {
   "cell_type": "code",
   "execution_count": 130,
   "id": "ca799d6d",
   "metadata": {},
   "outputs": [
    {
     "data": {
      "text/html": [
       "<table>\n",
       "<thead><tr><th scope=col>name</th><th scope=col>age</th><th scope=col>weight</th><th scope=col>species</th></tr></thead>\n",
       "<tbody>\n",
       "\t<tr><td>fluffy  </td><td>3       </td><td>14      </td><td>cat     </td></tr>\n",
       "\t<tr><td>vesuvius</td><td>6       </td><td>23      </td><td>fish    </td></tr>\n",
       "\t<tr><td>rex     </td><td>5       </td><td>34      </td><td>dog     </td></tr>\n",
       "</tbody>\n",
       "</table>\n"
      ],
      "text/latex": [
       "\\begin{tabular}{r|llll}\n",
       " name & age & weight & species\\\\\n",
       "\\hline\n",
       "\t fluffy   & 3        & 14       & cat     \\\\\n",
       "\t vesuvius & 6        & 23       & fish    \\\\\n",
       "\t rex      & 5        & 34       & dog     \\\\\n",
       "\\end{tabular}\n"
      ],
      "text/markdown": [
       "\n",
       "| name | age | weight | species |\n",
       "|---|---|---|---|\n",
       "| fluffy   | 3        | 14       | cat      |\n",
       "| vesuvius | 6        | 23       | fish     |\n",
       "| rex      | 5        | 34       | dog      |\n",
       "\n"
      ],
      "text/plain": [
       "  name     age weight species\n",
       "1 fluffy   3   14     cat    \n",
       "2 vesuvius 6   23     fish   \n",
       "3 rex      5   34     dog    "
      ]
     },
     "metadata": {},
     "output_type": "display_data"
    }
   ],
   "source": [
    "pets"
   ]
  },
  {
   "cell_type": "code",
   "execution_count": 131,
   "id": "2afcfa45",
   "metadata": {},
   "outputs": [
    {
     "data": {
      "text/html": [
       "<table>\n",
       "<thead><tr><th scope=col>name</th><th scope=col>age</th><th scope=col>weight</th><th scope=col>species</th></tr></thead>\n",
       "<tbody>\n",
       "\t<tr><td>fluffy  </td><td>3       </td><td>14      </td><td>cat     </td></tr>\n",
       "\t<tr><td>vesuvius</td><td>6       </td><td>23      </td><td>fish    </td></tr>\n",
       "</tbody>\n",
       "</table>\n"
      ],
      "text/latex": [
       "\\begin{tabular}{r|llll}\n",
       " name & age & weight & species\\\\\n",
       "\\hline\n",
       "\t fluffy   & 3        & 14       & cat     \\\\\n",
       "\t vesuvius & 6        & 23       & fish    \\\\\n",
       "\\end{tabular}\n"
      ],
      "text/markdown": [
       "\n",
       "| name | age | weight | species |\n",
       "|---|---|---|---|\n",
       "| fluffy   | 3        | 14       | cat      |\n",
       "| vesuvius | 6        | 23       | fish     |\n",
       "\n"
      ],
      "text/plain": [
       "  name     age weight species\n",
       "1 fluffy   3   14     cat    \n",
       "2 vesuvius 6   23     fish   "
      ]
     },
     "metadata": {},
     "output_type": "display_data"
    }
   ],
   "source": [
    "head(pets, 2)"
   ]
  },
  {
   "cell_type": "code",
   "execution_count": 132,
   "id": "76d2e74f",
   "metadata": {},
   "outputs": [
    {
     "data": {
      "text/html": [
       "<table>\n",
       "<thead><tr><th></th><th scope=col>name</th><th scope=col>age</th><th scope=col>weight</th><th scope=col>species</th></tr></thead>\n",
       "<tbody>\n",
       "\t<tr><th scope=row>3</th><td>rex</td><td>5  </td><td>34 </td><td>dog</td></tr>\n",
       "</tbody>\n",
       "</table>\n"
      ],
      "text/latex": [
       "\\begin{tabular}{r|llll}\n",
       "  & name & age & weight & species\\\\\n",
       "\\hline\n",
       "\t3 & rex & 5   & 34  & dog\\\\\n",
       "\\end{tabular}\n"
      ],
      "text/markdown": [
       "\n",
       "| <!--/--> | name | age | weight | species |\n",
       "|---|---|---|---|---|\n",
       "| 3 | rex | 5   | 34  | dog |\n",
       "\n"
      ],
      "text/plain": [
       "  name age weight species\n",
       "3 rex  5   34     dog    "
      ]
     },
     "metadata": {},
     "output_type": "display_data"
    }
   ],
   "source": [
    "tail(pets, 1)"
   ]
  },
  {
   "cell_type": "code",
   "execution_count": 133,
   "id": "2d944cf6",
   "metadata": {},
   "outputs": [],
   "source": [
    "write.csv(pets, \"pets2.csv\")"
   ]
  },
  {
   "cell_type": "markdown",
   "id": "828461b9",
   "metadata": {},
   "source": [
    "## Statistical Analysis"
   ]
  },
  {
   "cell_type": "code",
   "execution_count": 134,
   "id": "59211660",
   "metadata": {},
   "outputs": [
    {
     "data": {
      "text/plain": [
       "\n",
       "Call:\n",
       "lm(formula = price ~ time, data = list1)\n",
       "\n",
       "Coefficients:\n",
       "(Intercept)         time  \n",
       "     1.6897       0.4168  \n"
      ]
     },
     "metadata": {},
     "output_type": "display_data"
    }
   ],
   "source": [
    "# Linear regression!\n",
    "linearModel <- lm(price  ~ time, data = list1)\n",
    "linearModel # outputs result of regression"
   ]
  },
  {
   "cell_type": "code",
   "execution_count": 135,
   "id": "277d3d65",
   "metadata": {},
   "outputs": [
    {
     "name": "stdout",
     "output_type": "stream",
     "text": [
      "$time\n",
      " [1]  1  2  3  4  5  6  7  8  9 10 11 12 13 14 15 16 17 18 19 20 21 22 23 24 25\n",
      "[26] 26 27 28 29 30 31 32 33 34 35 36 37 38 39 40\n",
      "\n",
      "$price\n",
      " [1] -1.369081  2.487799  3.718303  7.525474  1.904855 10.001106  6.301230\n",
      " [8]  4.884156  7.311723  5.126145  8.241101  5.634258  3.400687  2.274394\n",
      "[15]  5.878672  3.740723 12.062776 16.954486  1.704073  7.735502 11.783038\n",
      "[22]  9.320494 13.562703 10.313570  9.391696 14.731288 20.588314 10.126012\n",
      "[29] 14.272741 14.512195 17.659405  7.494075 12.442357 24.590503 17.125074\n",
      "[36] 13.479024 21.376373 16.995312 17.562380 16.498279\n",
      "\n"
     ]
    }
   ],
   "source": [
    "print(list1)"
   ]
  },
  {
   "cell_type": "code",
   "execution_count": 136,
   "id": "52169e6c",
   "metadata": {},
   "outputs": [
    {
     "data": {
      "text/plain": [
       "\n",
       "Call:\n",
       "lm(formula = price ~ time, data = list1)\n",
       "\n",
       "Residuals:\n",
       "    Min      1Q  Median      3Q     Max \n",
       "-7.9043 -2.3966 -0.2606  2.0265  8.7305 \n",
       "\n",
       "Coefficients:\n",
       "            Estimate Std. Error t value Pr(>|t|)    \n",
       "(Intercept)  1.68971    1.23942   1.363    0.181    \n",
       "time         0.41677    0.05268   7.911 1.49e-09 ***\n",
       "---\n",
       "Signif. codes:  0 ‘***’ 0.001 ‘**’ 0.01 ‘*’ 0.05 ‘.’ 0.1 ‘ ’ 1\n",
       "\n",
       "Residual standard error: 3.846 on 38 degrees of freedom\n",
       "Multiple R-squared:  0.6222,\tAdjusted R-squared:  0.6123 \n",
       "F-statistic: 62.59 on 1 and 38 DF,  p-value: 1.491e-09\n"
      ]
     },
     "metadata": {},
     "output_type": "display_data"
    }
   ],
   "source": [
    "summary(linearModel)"
   ]
  },
  {
   "cell_type": "code",
   "execution_count": 137,
   "id": "b694c9e2",
   "metadata": {},
   "outputs": [
    {
     "data": {
      "text/html": [
       "<table>\n",
       "<thead><tr><th></th><th scope=col>Estimate</th><th scope=col>Std. Error</th><th scope=col>t value</th><th scope=col>Pr(&gt;|t|)</th></tr></thead>\n",
       "<tbody>\n",
       "\t<tr><th scope=row>(Intercept)</th><td>1.689714    </td><td>1.23942317  </td><td>1.363307    </td><td>1.808092e-01</td></tr>\n",
       "\t<tr><th scope=row>time</th><td>0.416774    </td><td>0.05268182  </td><td>7.911153    </td><td>1.491067e-09</td></tr>\n",
       "</tbody>\n",
       "</table>\n"
      ],
      "text/latex": [
       "\\begin{tabular}{r|llll}\n",
       "  & Estimate & Std. Error & t value & Pr(>\\textbar{}t\\textbar{})\\\\\n",
       "\\hline\n",
       "\t(Intercept) & 1.689714     & 1.23942317   & 1.363307     & 1.808092e-01\\\\\n",
       "\ttime & 0.416774     & 0.05268182   & 7.911153     & 1.491067e-09\\\\\n",
       "\\end{tabular}\n"
      ],
      "text/markdown": [
       "\n",
       "| <!--/--> | Estimate | Std. Error | t value | Pr(>|t|) |\n",
       "|---|---|---|---|---|\n",
       "| (Intercept) | 1.689714     | 1.23942317   | 1.363307     | 1.808092e-01 |\n",
       "| time | 0.416774     | 0.05268182   | 7.911153     | 1.491067e-09 |\n",
       "\n"
      ],
      "text/plain": [
       "            Estimate Std. Error t value  Pr(>|t|)    \n",
       "(Intercept) 1.689714 1.23942317 1.363307 1.808092e-01\n",
       "time        0.416774 0.05268182 7.911153 1.491067e-09"
      ]
     },
     "metadata": {},
     "output_type": "display_data"
    }
   ],
   "source": [
    "summary(linearModel)$coefficients # another way to extract results"
   ]
  },
  {
   "cell_type": "code",
   "execution_count": 138,
   "id": "0962bb0f",
   "metadata": {},
   "outputs": [
    {
     "data": {
      "text/html": [
       "<dl class=dl-horizontal>\n",
       "\t<dt>(Intercept)</dt>\n",
       "\t\t<dd>0.180809220015799</dd>\n",
       "\t<dt>time</dt>\n",
       "\t\t<dd>1.49106701454188e-09</dd>\n",
       "</dl>\n"
      ],
      "text/latex": [
       "\\begin{description*}\n",
       "\\item[(Intercept)] 0.180809220015799\n",
       "\\item[time] 1.49106701454188e-09\n",
       "\\end{description*}\n"
      ],
      "text/markdown": [
       "(Intercept)\n",
       ":   0.180809220015799time\n",
       ":   1.49106701454188e-09\n",
       "\n"
      ],
      "text/plain": [
       " (Intercept)         time \n",
       "1.808092e-01 1.491067e-09 "
      ]
     },
     "metadata": {},
     "output_type": "display_data"
    }
   ],
   "source": [
    "summary(linearModel)$coefficients[,4] # the p-values "
   ]
  },
  {
   "cell_type": "markdown",
   "id": "415e5708",
   "metadata": {},
   "source": [
    "### General Linear Models"
   ]
  },
  {
   "cell_type": "markdown",
   "id": "a853b127",
   "metadata": {},
   "source": [
    "#### Logistic Regression"
   ]
  },
  {
   "cell_type": "code",
   "execution_count": 139,
   "id": "6bef8330",
   "metadata": {},
   "outputs": [
    {
     "data": {
      "text/plain": [
       "\n",
       "Call:  glm(formula = success ~ time, family = binomial(link = \"logit\"), \n",
       "    data = list1)\n",
       "\n",
       "Coefficients:\n",
       "(Intercept)         time  \n",
       "    0.17018     -0.01321  \n",
       "\n",
       "Degrees of Freedom: 39 Total (i.e. Null);  38 Residual\n",
       "Null Deviance:\t    55.35 \n",
       "Residual Deviance: 55.12 \tAIC: 59.12"
      ]
     },
     "metadata": {},
     "output_type": "display_data"
    }
   ],
   "source": [
    "set.seed(1)\n",
    "list1$success = rbinom(length(list1$time), 1, .5) # random binary\n",
    "glModel <- glm(success  ~ time, data = list1, family=binomial(link=\"logit\"))\n",
    "glModel # outputs result of logistic regression"
   ]
  },
  {
   "cell_type": "code",
   "execution_count": 140,
   "id": "9ce245a3",
   "metadata": {},
   "outputs": [
    {
     "data": {
      "text/plain": [
       "\n",
       "Call:\n",
       "glm(formula = success ~ time, family = binomial(link = \"logit\"), \n",
       "    data = list1)\n",
       "\n",
       "Deviance Residuals: \n",
       "   Min      1Q  Median      3Q     Max  \n",
       "-1.245  -1.118  -1.035   1.202   1.327  \n",
       "\n",
       "Coefficients:\n",
       "            Estimate Std. Error z value Pr(>|z|)\n",
       "(Intercept)  0.17018    0.64621   0.263    0.792\n",
       "time        -0.01321    0.02757  -0.479    0.632\n",
       "\n",
       "(Dispersion parameter for binomial family taken to be 1)\n",
       "\n",
       "    Null deviance: 55.352  on 39  degrees of freedom\n",
       "Residual deviance: 55.121  on 38  degrees of freedom\n",
       "AIC: 59.121\n",
       "\n",
       "Number of Fisher Scoring iterations: 3\n"
      ]
     },
     "metadata": {},
     "output_type": "display_data"
    }
   ],
   "source": [
    "summary(glModel) # more verbose output from the regression"
   ]
  },
  {
   "cell_type": "markdown",
   "id": "c2ac3558",
   "metadata": {},
   "source": [
    "## Plots "
   ]
  },
  {
   "cell_type": "markdown",
   "id": "1fa86c9b",
   "metadata": {},
   "source": [
    "### Built in Plot Functions"
   ]
  },
  {
   "cell_type": "code",
   "execution_count": 141,
   "id": "79429f7b",
   "metadata": {},
   "outputs": [
    {
     "data": {
      "image/png": "[encoded data removed]",
      "text/plain": [
       "Plot with title “fake data”"
      ]
     },
     "metadata": {},
     "output_type": "display_data"
    }
   ],
   "source": [
    "# Scatterplots!\n",
    "plot(list1$time, list1$price, main = \"fake data\")"
   ]
  },
  {
   "cell_type": "code",
   "execution_count": 142,
   "id": "7770bbb6",
   "metadata": {},
   "outputs": [
    {
     "data": {
      "image/png": "[encoded data removed]",
      "text/plain": [
       "Plot with title “fake data”"
      ]
     },
     "metadata": {},
     "output_type": "display_data"
    }
   ],
   "source": [
    "# Plot regression line on existing plot\n",
    "plot(list1$time, list1$price, main = \"fake data\")\n",
    "abline(linearModel, col = \"red\")"
   ]
  },
  {
   "cell_type": "code",
   "execution_count": 143,
   "id": "c3edb2cc",
   "metadata": {},
   "outputs": [
    {
     "data": {
      "image/png": "[encoded data removed]",
      "text/plain": [
       "Plot with title “”"
      ]
     },
     "metadata": {},
     "output_type": "display_data"
    },
    {
     "data": {
      "image/png": "[encoded data removed]",
      "text/plain": [
       "Plot with title “”"
      ]
     },
     "metadata": {},
     "output_type": "display_data"
    },
    {
     "data": {
      "image/png": "[encoded data removed]",
      "text/plain": [
       "Plot with title “”"
      ]
     },
     "metadata": {},
     "output_type": "display_data"
    },
    {
     "data": {
      "image/png": "[encoded data removed]",
      "text/plain": [
       "Plot with title “”"
      ]
     },
     "metadata": {},
     "output_type": "display_data"
    }
   ],
   "source": [
    "# Get a variety of nice diagnostics\n",
    "plot(linearModel)"
   ]
  },
  {
   "cell_type": "code",
   "execution_count": 144,
   "id": "47826aa0",
   "metadata": {},
   "outputs": [
    {
     "data": {
      "image/png": "[encoded data removed]",
      "text/plain": [
       "Plot with title “Histogram of rpois(n = 10000, lambda = 5)”"
      ]
     },
     "metadata": {},
     "output_type": "display_data"
    }
   ],
   "source": [
    "# Histograms!\n",
    "hist(rpois(n = 10000, lambda = 5), col = \"thistle\")"
   ]
  },
  {
   "cell_type": "code",
   "execution_count": 145,
   "id": "cde3e2c4",
   "metadata": {},
   "outputs": [
    {
     "data": {
      "image/png": "[encoded data removed]",
      "text/plain": [
       "plot without title"
      ]
     },
     "metadata": {},
     "output_type": "display_data"
    }
   ],
   "source": [
    "# Barplots!\n",
    "barplot(c(1,4,5,1,2), names.arg = c(\"red\",\"blue\",\"purple\",\"green\",\"yellow\"))"
   ]
  },
  {
   "cell_type": "markdown",
   "id": "f6a10cf2",
   "metadata": {},
   "source": [
    "### GGPlot2"
   ]
  },
  {
   "cell_type": "code",
   "execution_count": 146,
   "id": "1ee2b9f3",
   "metadata": {},
   "outputs": [
    {
     "name": "stderr",
     "output_type": "stream",
     "text": [
      "Loading required package: ggplot2\n",
      "Registered S3 methods overwritten by 'ggplot2':\n",
      "  method         from \n",
      "  [.quosures     rlang\n",
      "  c.quosures     rlang\n",
      "  print.quosures rlang\n"
     ]
    }
   ],
   "source": [
    "# install.packages(\"ggplot2\")\n",
    "require(ggplot2)\n",
    "# ?ggplot2"
   ]
  },
  {
   "cell_type": "code",
   "execution_count": 148,
   "id": "88a5bc03",
   "metadata": {},
   "outputs": [
    {
     "data": {
      "image/png": "[encoded data removed]",
      "text/plain": [
       "plot without title"
      ]
     },
     "metadata": {},
     "output_type": "display_data"
    },
    {
     "data": {
      "image/png": "[encoded data removed]",
      "text/plain": [
       "plot without title"
      ]
     },
     "metadata": {},
     "output_type": "display_data"
    }
   ],
   "source": [
    "pp <- ggplot(students, aes(x=house))\n",
    "pp + geom_bar()\n",
    "ll <- as.data.table(list1)\n",
    "pp <- ggplot(ll, aes(x=time,price))\n",
    "pp + geom_point()"
   ]
  },
  {
   "cell_type": "code",
   "execution_count": null,
   "id": "4f2e5ae8",
   "metadata": {},
   "outputs": [],
   "source": []
  }
 ],
 "metadata": {
  "kernelspec": {
   "display_name": "R [conda env:r_env]",
   "language": "R",
   "name": "conda-env-r_env-r"
  },
  "language_info": {
   "codemirror_mode": "r",
   "file_extension": ".r",
   "mimetype": "text/x-r-source",
   "name": "R",
   "pygments_lexer": "r",
   "version": "3.6.1"
  }
 },
 "nbformat": 4,
 "nbformat_minor": 5
}
